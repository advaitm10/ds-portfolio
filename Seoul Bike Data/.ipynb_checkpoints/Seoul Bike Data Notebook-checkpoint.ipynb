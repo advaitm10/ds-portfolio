{
 "cells": [
  {
   "cell_type": "code",
   "execution_count": 87,
   "id": "eb788d09",
   "metadata": {},
   "outputs": [],
   "source": [
    "library(ggplot2)\n",
    "library(reshape2)\n",
    "library(Metrics)\n",
    "options(repr.plot.width=10, repr.plot.height=10)"
   ]
  },
  {
   "cell_type": "code",
   "execution_count": 64,
   "id": "d322dab8",
   "metadata": {},
   "outputs": [],
   "source": [
    "# Dataset from UCI Machine Learning Repository https://archive.ics.uci.edu/ml/datasets/Seoul+Bike+Sharing+Demand\n",
    "df = read.csv('SeoulBikeData.csv')"
   ]
  },
  {
   "cell_type": "code",
   "execution_count": 65,
   "id": "a3c521af",
   "metadata": {
    "collapsed": true
   },
   "outputs": [
    {
     "data": {
      "text/html": [
       "<table class=\"dataframe\">\n",
       "<caption>A data.frame: 8760 × 14</caption>\n",
       "<thead>\n",
       "\t<tr><th scope=col>Date</th><th scope=col>Rented.Bike.Count</th><th scope=col>Hour</th><th scope=col>Temperature..C.</th><th scope=col>Humidity...</th><th scope=col>Wind.speed..m.s.</th><th scope=col>Visibility..10m.</th><th scope=col>Dew.point.temperature..C.</th><th scope=col>Solar.Radiation..MJ.m2.</th><th scope=col>Rainfall.mm.</th><th scope=col>Snowfall..cm.</th><th scope=col>Seasons</th><th scope=col>Holiday</th><th scope=col>Functioning.Day</th></tr>\n",
       "\t<tr><th scope=col>&lt;chr&gt;</th><th scope=col>&lt;int&gt;</th><th scope=col>&lt;int&gt;</th><th scope=col>&lt;dbl&gt;</th><th scope=col>&lt;int&gt;</th><th scope=col>&lt;dbl&gt;</th><th scope=col>&lt;int&gt;</th><th scope=col>&lt;dbl&gt;</th><th scope=col>&lt;dbl&gt;</th><th scope=col>&lt;dbl&gt;</th><th scope=col>&lt;dbl&gt;</th><th scope=col>&lt;chr&gt;</th><th scope=col>&lt;chr&gt;</th><th scope=col>&lt;chr&gt;</th></tr>\n",
       "</thead>\n",
       "<tbody>\n",
       "\t<tr><td>01/12/2017</td><td>254</td><td> 0</td><td>-5.2</td><td>37</td><td>2.2</td><td>2000</td><td>-17.6</td><td>0.00</td><td>0</td><td>0</td><td>Winter</td><td>No Holiday</td><td>Yes</td></tr>\n",
       "\t<tr><td>01/12/2017</td><td>204</td><td> 1</td><td>-5.5</td><td>38</td><td>0.8</td><td>2000</td><td>-17.6</td><td>0.00</td><td>0</td><td>0</td><td>Winter</td><td>No Holiday</td><td>Yes</td></tr>\n",
       "\t<tr><td>01/12/2017</td><td>173</td><td> 2</td><td>-6.0</td><td>39</td><td>1.0</td><td>2000</td><td>-17.7</td><td>0.00</td><td>0</td><td>0</td><td>Winter</td><td>No Holiday</td><td>Yes</td></tr>\n",
       "\t<tr><td>01/12/2017</td><td>107</td><td> 3</td><td>-6.2</td><td>40</td><td>0.9</td><td>2000</td><td>-17.6</td><td>0.00</td><td>0</td><td>0</td><td>Winter</td><td>No Holiday</td><td>Yes</td></tr>\n",
       "\t<tr><td>01/12/2017</td><td> 78</td><td> 4</td><td>-6.0</td><td>36</td><td>2.3</td><td>2000</td><td>-18.6</td><td>0.00</td><td>0</td><td>0</td><td>Winter</td><td>No Holiday</td><td>Yes</td></tr>\n",
       "\t<tr><td>01/12/2017</td><td>100</td><td> 5</td><td>-6.4</td><td>37</td><td>1.5</td><td>2000</td><td>-18.7</td><td>0.00</td><td>0</td><td>0</td><td>Winter</td><td>No Holiday</td><td>Yes</td></tr>\n",
       "\t<tr><td>01/12/2017</td><td>181</td><td> 6</td><td>-6.6</td><td>35</td><td>1.3</td><td>2000</td><td>-19.5</td><td>0.00</td><td>0</td><td>0</td><td>Winter</td><td>No Holiday</td><td>Yes</td></tr>\n",
       "\t<tr><td>01/12/2017</td><td>460</td><td> 7</td><td>-7.4</td><td>38</td><td>0.9</td><td>2000</td><td>-19.3</td><td>0.00</td><td>0</td><td>0</td><td>Winter</td><td>No Holiday</td><td>Yes</td></tr>\n",
       "\t<tr><td>01/12/2017</td><td>930</td><td> 8</td><td>-7.6</td><td>37</td><td>1.1</td><td>2000</td><td>-19.8</td><td>0.01</td><td>0</td><td>0</td><td>Winter</td><td>No Holiday</td><td>Yes</td></tr>\n",
       "\t<tr><td>01/12/2017</td><td>490</td><td> 9</td><td>-6.5</td><td>27</td><td>0.5</td><td>1928</td><td>-22.4</td><td>0.23</td><td>0</td><td>0</td><td>Winter</td><td>No Holiday</td><td>Yes</td></tr>\n",
       "\t<tr><td>01/12/2017</td><td>339</td><td>10</td><td>-3.5</td><td>24</td><td>1.2</td><td>1996</td><td>-21.2</td><td>0.65</td><td>0</td><td>0</td><td>Winter</td><td>No Holiday</td><td>Yes</td></tr>\n",
       "\t<tr><td>01/12/2017</td><td>360</td><td>11</td><td>-0.5</td><td>21</td><td>1.3</td><td>1936</td><td>-20.2</td><td>0.94</td><td>0</td><td>0</td><td>Winter</td><td>No Holiday</td><td>Yes</td></tr>\n",
       "\t<tr><td>01/12/2017</td><td>449</td><td>12</td><td> 1.7</td><td>23</td><td>1.4</td><td>2000</td><td>-17.2</td><td>1.11</td><td>0</td><td>0</td><td>Winter</td><td>No Holiday</td><td>Yes</td></tr>\n",
       "\t<tr><td>01/12/2017</td><td>451</td><td>13</td><td> 2.4</td><td>25</td><td>1.6</td><td>2000</td><td>-15.6</td><td>1.16</td><td>0</td><td>0</td><td>Winter</td><td>No Holiday</td><td>Yes</td></tr>\n",
       "\t<tr><td>01/12/2017</td><td>447</td><td>14</td><td> 3.0</td><td>26</td><td>2.0</td><td>2000</td><td>-14.6</td><td>1.01</td><td>0</td><td>0</td><td>Winter</td><td>No Holiday</td><td>Yes</td></tr>\n",
       "\t<tr><td>01/12/2017</td><td>463</td><td>15</td><td> 2.1</td><td>36</td><td>3.2</td><td>2000</td><td>-11.4</td><td>0.54</td><td>0</td><td>0</td><td>Winter</td><td>No Holiday</td><td>Yes</td></tr>\n",
       "\t<tr><td>01/12/2017</td><td>484</td><td>16</td><td> 1.2</td><td>54</td><td>4.2</td><td> 793</td><td> -7.0</td><td>0.24</td><td>0</td><td>0</td><td>Winter</td><td>No Holiday</td><td>Yes</td></tr>\n",
       "\t<tr><td>01/12/2017</td><td>555</td><td>17</td><td> 0.8</td><td>58</td><td>1.6</td><td>2000</td><td> -6.5</td><td>0.08</td><td>0</td><td>0</td><td>Winter</td><td>No Holiday</td><td>Yes</td></tr>\n",
       "\t<tr><td>01/12/2017</td><td>862</td><td>18</td><td> 0.6</td><td>66</td><td>1.4</td><td>2000</td><td> -5.0</td><td>0.00</td><td>0</td><td>0</td><td>Winter</td><td>No Holiday</td><td>Yes</td></tr>\n",
       "\t<tr><td>01/12/2017</td><td>600</td><td>19</td><td> 0.0</td><td>77</td><td>1.7</td><td>2000</td><td> -3.5</td><td>0.00</td><td>0</td><td>0</td><td>Winter</td><td>No Holiday</td><td>Yes</td></tr>\n",
       "\t<tr><td>01/12/2017</td><td>426</td><td>20</td><td>-0.3</td><td>79</td><td>1.5</td><td>1913</td><td> -3.5</td><td>0.00</td><td>0</td><td>0</td><td>Winter</td><td>No Holiday</td><td>Yes</td></tr>\n",
       "\t<tr><td>01/12/2017</td><td>405</td><td>21</td><td>-0.8</td><td>81</td><td>0.8</td><td>1687</td><td> -3.6</td><td>0.00</td><td>0</td><td>0</td><td>Winter</td><td>No Holiday</td><td>Yes</td></tr>\n",
       "\t<tr><td>01/12/2017</td><td>398</td><td>22</td><td>-0.9</td><td>83</td><td>1.5</td><td>1380</td><td> -3.4</td><td>0.00</td><td>0</td><td>0</td><td>Winter</td><td>No Holiday</td><td>Yes</td></tr>\n",
       "\t<tr><td>01/12/2017</td><td>323</td><td>23</td><td>-1.3</td><td>84</td><td>1.0</td><td>1265</td><td> -3.6</td><td>0.00</td><td>0</td><td>0</td><td>Winter</td><td>No Holiday</td><td>Yes</td></tr>\n",
       "\t<tr><td>02/12/2017</td><td>328</td><td> 0</td><td>-1.8</td><td>87</td><td>1.1</td><td> 994</td><td> -3.6</td><td>0.00</td><td>0</td><td>0</td><td>Winter</td><td>No Holiday</td><td>Yes</td></tr>\n",
       "\t<tr><td>02/12/2017</td><td>308</td><td> 1</td><td>-2.2</td><td>86</td><td>0.6</td><td> 990</td><td> -4.2</td><td>0.00</td><td>0</td><td>0</td><td>Winter</td><td>No Holiday</td><td>Yes</td></tr>\n",
       "\t<tr><td>02/12/2017</td><td>262</td><td> 2</td><td>-2.9</td><td>86</td><td>1.5</td><td>1256</td><td> -4.9</td><td>0.00</td><td>0</td><td>0</td><td>Winter</td><td>No Holiday</td><td>Yes</td></tr>\n",
       "\t<tr><td>02/12/2017</td><td>167</td><td> 3</td><td>-3.5</td><td>81</td><td>2.2</td><td>1221</td><td> -6.2</td><td>0.00</td><td>0</td><td>0</td><td>Winter</td><td>No Holiday</td><td>Yes</td></tr>\n",
       "\t<tr><td>02/12/2017</td><td> 89</td><td> 4</td><td>-3.8</td><td>79</td><td>2.0</td><td>1167</td><td> -6.9</td><td>0.00</td><td>0</td><td>0</td><td>Winter</td><td>No Holiday</td><td>Yes</td></tr>\n",
       "\t<tr><td>02/12/2017</td><td> 79</td><td> 5</td><td>-4.0</td><td>79</td><td>1.5</td><td>1202</td><td> -7.1</td><td>0.00</td><td>0</td><td>0</td><td>Winter</td><td>No Holiday</td><td>Yes</td></tr>\n",
       "\t<tr><td>⋮</td><td>⋮</td><td>⋮</td><td>⋮</td><td>⋮</td><td>⋮</td><td>⋮</td><td>⋮</td><td>⋮</td><td>⋮</td><td>⋮</td><td>⋮</td><td>⋮</td><td>⋮</td></tr>\n",
       "\t<tr><td>29/11/2018</td><td>1577</td><td>18</td><td> 0.0</td><td>46</td><td>0.9</td><td>1566</td><td> -4.8</td><td>0.00</td><td>0</td><td>0</td><td>Autumn</td><td>No Holiday</td><td>Yes</td></tr>\n",
       "\t<tr><td>29/11/2018</td><td>1026</td><td>19</td><td> 5.2</td><td>48</td><td>1.9</td><td>1590</td><td> -4.9</td><td>0.00</td><td>0</td><td>0</td><td>Autumn</td><td>No Holiday</td><td>Yes</td></tr>\n",
       "\t<tr><td>29/11/2018</td><td> 818</td><td>20</td><td> 4.1</td><td>54</td><td>1.3</td><td>1434</td><td> -4.3</td><td>0.00</td><td>0</td><td>0</td><td>Autumn</td><td>No Holiday</td><td>Yes</td></tr>\n",
       "\t<tr><td>29/11/2018</td><td> 792</td><td>21</td><td> 3.8</td><td>55</td><td>2.1</td><td>1231</td><td> -4.4</td><td>0.00</td><td>0</td><td>0</td><td>Autumn</td><td>No Holiday</td><td>Yes</td></tr>\n",
       "\t<tr><td>29/11/2018</td><td> 726</td><td>22</td><td> 3.0</td><td>59</td><td>1.1</td><td>1218</td><td> -4.2</td><td>0.00</td><td>0</td><td>0</td><td>Autumn</td><td>No Holiday</td><td>Yes</td></tr>\n",
       "\t<tr><td>29/11/2018</td><td> 559</td><td>23</td><td> 2.6</td><td>56</td><td>1.9</td><td>1394</td><td> -5.3</td><td>0.00</td><td>0</td><td>0</td><td>Autumn</td><td>No Holiday</td><td>Yes</td></tr>\n",
       "\t<tr><td>30/11/2018</td><td> 474</td><td> 0</td><td> 1.8</td><td>62</td><td>1.6</td><td>1411</td><td> -4.7</td><td>0.00</td><td>0</td><td>0</td><td>Autumn</td><td>No Holiday</td><td>Yes</td></tr>\n",
       "\t<tr><td>30/11/2018</td><td> 456</td><td> 1</td><td> 1.3</td><td>63</td><td>2.0</td><td>1379</td><td> -4.9</td><td>0.00</td><td>0</td><td>0</td><td>Autumn</td><td>No Holiday</td><td>Yes</td></tr>\n",
       "\t<tr><td>30/11/2018</td><td> 300</td><td> 2</td><td> 0.6</td><td>66</td><td>0.5</td><td>1368</td><td> -5.0</td><td>0.00</td><td>0</td><td>0</td><td>Autumn</td><td>No Holiday</td><td>Yes</td></tr>\n",
       "\t<tr><td>30/11/2018</td><td> 213</td><td> 3</td><td>-0.1</td><td>69</td><td>0.9</td><td>1338</td><td> -5.1</td><td>0.00</td><td>0</td><td>0</td><td>Autumn</td><td>No Holiday</td><td>Yes</td></tr>\n",
       "\t<tr><td>30/11/2018</td><td> 116</td><td> 4</td><td>-0.5</td><td>71</td><td>0.4</td><td>1345</td><td> -5.1</td><td>0.00</td><td>0</td><td>0</td><td>Autumn</td><td>No Holiday</td><td>Yes</td></tr>\n",
       "\t<tr><td>30/11/2018</td><td> 149</td><td> 5</td><td>-0.7</td><td>66</td><td>0.5</td><td>1336</td><td> -6.2</td><td>0.00</td><td>0</td><td>0</td><td>Autumn</td><td>No Holiday</td><td>Yes</td></tr>\n",
       "\t<tr><td>30/11/2018</td><td> 293</td><td> 6</td><td>-0.8</td><td>68</td><td>0.8</td><td>1322</td><td> -5.9</td><td>0.00</td><td>0</td><td>0</td><td>Autumn</td><td>No Holiday</td><td>Yes</td></tr>\n",
       "\t<tr><td>30/11/2018</td><td> 750</td><td> 7</td><td>-1.2</td><td>70</td><td>0.8</td><td>1351</td><td> -5.9</td><td>0.00</td><td>0</td><td>0</td><td>Autumn</td><td>No Holiday</td><td>Yes</td></tr>\n",
       "\t<tr><td>30/11/2018</td><td>1527</td><td> 8</td><td>-1.5</td><td>68</td><td>1.1</td><td>1286</td><td> -6.6</td><td>0.02</td><td>0</td><td>0</td><td>Autumn</td><td>No Holiday</td><td>Yes</td></tr>\n",
       "\t<tr><td>30/11/2018</td><td> 809</td><td> 9</td><td>-0.4</td><td>57</td><td>0.6</td><td>1270</td><td> -7.8</td><td>0.45</td><td>0</td><td>0</td><td>Autumn</td><td>No Holiday</td><td>Yes</td></tr>\n",
       "\t<tr><td>30/11/2018</td><td> 554</td><td>10</td><td> 1.9</td><td>51</td><td>0.8</td><td>1029</td><td> -7.1</td><td>1.01</td><td>0</td><td>0</td><td>Autumn</td><td>No Holiday</td><td>Yes</td></tr>\n",
       "\t<tr><td>30/11/2018</td><td> 642</td><td>11</td><td> 5.3</td><td>43</td><td>1.8</td><td>1177</td><td> -6.2</td><td>1.38</td><td>0</td><td>0</td><td>Autumn</td><td>No Holiday</td><td>Yes</td></tr>\n",
       "\t<tr><td>30/11/2018</td><td> 720</td><td>12</td><td> 6.6</td><td>35</td><td>1.3</td><td>1409</td><td> -7.8</td><td>1.70</td><td>0</td><td>0</td><td>Autumn</td><td>No Holiday</td><td>Yes</td></tr>\n",
       "\t<tr><td>30/11/2018</td><td> 740</td><td>13</td><td> 7.1</td><td>24</td><td>2.8</td><td>1838</td><td>-12.1</td><td>1.83</td><td>0</td><td>0</td><td>Autumn</td><td>No Holiday</td><td>Yes</td></tr>\n",
       "\t<tr><td>30/11/2018</td><td> 761</td><td>14</td><td> 7.8</td><td>20</td><td>2.2</td><td>2000</td><td>-13.8</td><td>1.67</td><td>0</td><td>0</td><td>Autumn</td><td>No Holiday</td><td>Yes</td></tr>\n",
       "\t<tr><td>30/11/2018</td><td> 768</td><td>15</td><td> 7.0</td><td>20</td><td>3.3</td><td>1994</td><td>-14.4</td><td>1.21</td><td>0</td><td>0</td><td>Autumn</td><td>No Holiday</td><td>Yes</td></tr>\n",
       "\t<tr><td>30/11/2018</td><td> 837</td><td>16</td><td> 7.2</td><td>23</td><td>1.5</td><td>1945</td><td>-12.6</td><td>0.72</td><td>0</td><td>0</td><td>Autumn</td><td>No Holiday</td><td>Yes</td></tr>\n",
       "\t<tr><td>30/11/2018</td><td>1047</td><td>17</td><td> 6.0</td><td>29</td><td>2.1</td><td>1877</td><td>-10.7</td><td>0.23</td><td>0</td><td>0</td><td>Autumn</td><td>No Holiday</td><td>Yes</td></tr>\n",
       "\t<tr><td>30/11/2018</td><td>1384</td><td>18</td><td> 4.7</td><td>34</td><td>1.9</td><td>1661</td><td> -9.8</td><td>0.00</td><td>0</td><td>0</td><td>Autumn</td><td>No Holiday</td><td>Yes</td></tr>\n",
       "\t<tr><td>30/11/2018</td><td>1003</td><td>19</td><td> 4.2</td><td>34</td><td>2.6</td><td>1894</td><td>-10.3</td><td>0.00</td><td>0</td><td>0</td><td>Autumn</td><td>No Holiday</td><td>Yes</td></tr>\n",
       "\t<tr><td>30/11/2018</td><td> 764</td><td>20</td><td> 3.4</td><td>37</td><td>2.3</td><td>2000</td><td> -9.9</td><td>0.00</td><td>0</td><td>0</td><td>Autumn</td><td>No Holiday</td><td>Yes</td></tr>\n",
       "\t<tr><td>30/11/2018</td><td> 694</td><td>21</td><td> 2.6</td><td>39</td><td>0.3</td><td>1968</td><td> -9.9</td><td>0.00</td><td>0</td><td>0</td><td>Autumn</td><td>No Holiday</td><td>Yes</td></tr>\n",
       "\t<tr><td>30/11/2018</td><td> 712</td><td>22</td><td> 2.1</td><td>41</td><td>1.0</td><td>1859</td><td> -9.8</td><td>0.00</td><td>0</td><td>0</td><td>Autumn</td><td>No Holiday</td><td>Yes</td></tr>\n",
       "\t<tr><td>30/11/2018</td><td> 584</td><td>23</td><td> 1.9</td><td>43</td><td>1.3</td><td>1909</td><td> -9.3</td><td>0.00</td><td>0</td><td>0</td><td>Autumn</td><td>No Holiday</td><td>Yes</td></tr>\n",
       "</tbody>\n",
       "</table>\n"
      ],
      "text/latex": [
       "A data.frame: 8760 × 14\n",
       "\\begin{tabular}{llllllllllllll}\n",
       " Date & Rented.Bike.Count & Hour & Temperature..C. & Humidity... & Wind.speed..m.s. & Visibility..10m. & Dew.point.temperature..C. & Solar.Radiation..MJ.m2. & Rainfall.mm. & Snowfall..cm. & Seasons & Holiday & Functioning.Day\\\\\n",
       " <chr> & <int> & <int> & <dbl> & <int> & <dbl> & <int> & <dbl> & <dbl> & <dbl> & <dbl> & <chr> & <chr> & <chr>\\\\\n",
       "\\hline\n",
       "\t 01/12/2017 & 254 &  0 & -5.2 & 37 & 2.2 & 2000 & -17.6 & 0.00 & 0 & 0 & Winter & No Holiday & Yes\\\\\n",
       "\t 01/12/2017 & 204 &  1 & -5.5 & 38 & 0.8 & 2000 & -17.6 & 0.00 & 0 & 0 & Winter & No Holiday & Yes\\\\\n",
       "\t 01/12/2017 & 173 &  2 & -6.0 & 39 & 1.0 & 2000 & -17.7 & 0.00 & 0 & 0 & Winter & No Holiday & Yes\\\\\n",
       "\t 01/12/2017 & 107 &  3 & -6.2 & 40 & 0.9 & 2000 & -17.6 & 0.00 & 0 & 0 & Winter & No Holiday & Yes\\\\\n",
       "\t 01/12/2017 &  78 &  4 & -6.0 & 36 & 2.3 & 2000 & -18.6 & 0.00 & 0 & 0 & Winter & No Holiday & Yes\\\\\n",
       "\t 01/12/2017 & 100 &  5 & -6.4 & 37 & 1.5 & 2000 & -18.7 & 0.00 & 0 & 0 & Winter & No Holiday & Yes\\\\\n",
       "\t 01/12/2017 & 181 &  6 & -6.6 & 35 & 1.3 & 2000 & -19.5 & 0.00 & 0 & 0 & Winter & No Holiday & Yes\\\\\n",
       "\t 01/12/2017 & 460 &  7 & -7.4 & 38 & 0.9 & 2000 & -19.3 & 0.00 & 0 & 0 & Winter & No Holiday & Yes\\\\\n",
       "\t 01/12/2017 & 930 &  8 & -7.6 & 37 & 1.1 & 2000 & -19.8 & 0.01 & 0 & 0 & Winter & No Holiday & Yes\\\\\n",
       "\t 01/12/2017 & 490 &  9 & -6.5 & 27 & 0.5 & 1928 & -22.4 & 0.23 & 0 & 0 & Winter & No Holiday & Yes\\\\\n",
       "\t 01/12/2017 & 339 & 10 & -3.5 & 24 & 1.2 & 1996 & -21.2 & 0.65 & 0 & 0 & Winter & No Holiday & Yes\\\\\n",
       "\t 01/12/2017 & 360 & 11 & -0.5 & 21 & 1.3 & 1936 & -20.2 & 0.94 & 0 & 0 & Winter & No Holiday & Yes\\\\\n",
       "\t 01/12/2017 & 449 & 12 &  1.7 & 23 & 1.4 & 2000 & -17.2 & 1.11 & 0 & 0 & Winter & No Holiday & Yes\\\\\n",
       "\t 01/12/2017 & 451 & 13 &  2.4 & 25 & 1.6 & 2000 & -15.6 & 1.16 & 0 & 0 & Winter & No Holiday & Yes\\\\\n",
       "\t 01/12/2017 & 447 & 14 &  3.0 & 26 & 2.0 & 2000 & -14.6 & 1.01 & 0 & 0 & Winter & No Holiday & Yes\\\\\n",
       "\t 01/12/2017 & 463 & 15 &  2.1 & 36 & 3.2 & 2000 & -11.4 & 0.54 & 0 & 0 & Winter & No Holiday & Yes\\\\\n",
       "\t 01/12/2017 & 484 & 16 &  1.2 & 54 & 4.2 &  793 &  -7.0 & 0.24 & 0 & 0 & Winter & No Holiday & Yes\\\\\n",
       "\t 01/12/2017 & 555 & 17 &  0.8 & 58 & 1.6 & 2000 &  -6.5 & 0.08 & 0 & 0 & Winter & No Holiday & Yes\\\\\n",
       "\t 01/12/2017 & 862 & 18 &  0.6 & 66 & 1.4 & 2000 &  -5.0 & 0.00 & 0 & 0 & Winter & No Holiday & Yes\\\\\n",
       "\t 01/12/2017 & 600 & 19 &  0.0 & 77 & 1.7 & 2000 &  -3.5 & 0.00 & 0 & 0 & Winter & No Holiday & Yes\\\\\n",
       "\t 01/12/2017 & 426 & 20 & -0.3 & 79 & 1.5 & 1913 &  -3.5 & 0.00 & 0 & 0 & Winter & No Holiday & Yes\\\\\n",
       "\t 01/12/2017 & 405 & 21 & -0.8 & 81 & 0.8 & 1687 &  -3.6 & 0.00 & 0 & 0 & Winter & No Holiday & Yes\\\\\n",
       "\t 01/12/2017 & 398 & 22 & -0.9 & 83 & 1.5 & 1380 &  -3.4 & 0.00 & 0 & 0 & Winter & No Holiday & Yes\\\\\n",
       "\t 01/12/2017 & 323 & 23 & -1.3 & 84 & 1.0 & 1265 &  -3.6 & 0.00 & 0 & 0 & Winter & No Holiday & Yes\\\\\n",
       "\t 02/12/2017 & 328 &  0 & -1.8 & 87 & 1.1 &  994 &  -3.6 & 0.00 & 0 & 0 & Winter & No Holiday & Yes\\\\\n",
       "\t 02/12/2017 & 308 &  1 & -2.2 & 86 & 0.6 &  990 &  -4.2 & 0.00 & 0 & 0 & Winter & No Holiday & Yes\\\\\n",
       "\t 02/12/2017 & 262 &  2 & -2.9 & 86 & 1.5 & 1256 &  -4.9 & 0.00 & 0 & 0 & Winter & No Holiday & Yes\\\\\n",
       "\t 02/12/2017 & 167 &  3 & -3.5 & 81 & 2.2 & 1221 &  -6.2 & 0.00 & 0 & 0 & Winter & No Holiday & Yes\\\\\n",
       "\t 02/12/2017 &  89 &  4 & -3.8 & 79 & 2.0 & 1167 &  -6.9 & 0.00 & 0 & 0 & Winter & No Holiday & Yes\\\\\n",
       "\t 02/12/2017 &  79 &  5 & -4.0 & 79 & 1.5 & 1202 &  -7.1 & 0.00 & 0 & 0 & Winter & No Holiday & Yes\\\\\n",
       "\t ⋮ & ⋮ & ⋮ & ⋮ & ⋮ & ⋮ & ⋮ & ⋮ & ⋮ & ⋮ & ⋮ & ⋮ & ⋮ & ⋮\\\\\n",
       "\t 29/11/2018 & 1577 & 18 &  0.0 & 46 & 0.9 & 1566 &  -4.8 & 0.00 & 0 & 0 & Autumn & No Holiday & Yes\\\\\n",
       "\t 29/11/2018 & 1026 & 19 &  5.2 & 48 & 1.9 & 1590 &  -4.9 & 0.00 & 0 & 0 & Autumn & No Holiday & Yes\\\\\n",
       "\t 29/11/2018 &  818 & 20 &  4.1 & 54 & 1.3 & 1434 &  -4.3 & 0.00 & 0 & 0 & Autumn & No Holiday & Yes\\\\\n",
       "\t 29/11/2018 &  792 & 21 &  3.8 & 55 & 2.1 & 1231 &  -4.4 & 0.00 & 0 & 0 & Autumn & No Holiday & Yes\\\\\n",
       "\t 29/11/2018 &  726 & 22 &  3.0 & 59 & 1.1 & 1218 &  -4.2 & 0.00 & 0 & 0 & Autumn & No Holiday & Yes\\\\\n",
       "\t 29/11/2018 &  559 & 23 &  2.6 & 56 & 1.9 & 1394 &  -5.3 & 0.00 & 0 & 0 & Autumn & No Holiday & Yes\\\\\n",
       "\t 30/11/2018 &  474 &  0 &  1.8 & 62 & 1.6 & 1411 &  -4.7 & 0.00 & 0 & 0 & Autumn & No Holiday & Yes\\\\\n",
       "\t 30/11/2018 &  456 &  1 &  1.3 & 63 & 2.0 & 1379 &  -4.9 & 0.00 & 0 & 0 & Autumn & No Holiday & Yes\\\\\n",
       "\t 30/11/2018 &  300 &  2 &  0.6 & 66 & 0.5 & 1368 &  -5.0 & 0.00 & 0 & 0 & Autumn & No Holiday & Yes\\\\\n",
       "\t 30/11/2018 &  213 &  3 & -0.1 & 69 & 0.9 & 1338 &  -5.1 & 0.00 & 0 & 0 & Autumn & No Holiday & Yes\\\\\n",
       "\t 30/11/2018 &  116 &  4 & -0.5 & 71 & 0.4 & 1345 &  -5.1 & 0.00 & 0 & 0 & Autumn & No Holiday & Yes\\\\\n",
       "\t 30/11/2018 &  149 &  5 & -0.7 & 66 & 0.5 & 1336 &  -6.2 & 0.00 & 0 & 0 & Autumn & No Holiday & Yes\\\\\n",
       "\t 30/11/2018 &  293 &  6 & -0.8 & 68 & 0.8 & 1322 &  -5.9 & 0.00 & 0 & 0 & Autumn & No Holiday & Yes\\\\\n",
       "\t 30/11/2018 &  750 &  7 & -1.2 & 70 & 0.8 & 1351 &  -5.9 & 0.00 & 0 & 0 & Autumn & No Holiday & Yes\\\\\n",
       "\t 30/11/2018 & 1527 &  8 & -1.5 & 68 & 1.1 & 1286 &  -6.6 & 0.02 & 0 & 0 & Autumn & No Holiday & Yes\\\\\n",
       "\t 30/11/2018 &  809 &  9 & -0.4 & 57 & 0.6 & 1270 &  -7.8 & 0.45 & 0 & 0 & Autumn & No Holiday & Yes\\\\\n",
       "\t 30/11/2018 &  554 & 10 &  1.9 & 51 & 0.8 & 1029 &  -7.1 & 1.01 & 0 & 0 & Autumn & No Holiday & Yes\\\\\n",
       "\t 30/11/2018 &  642 & 11 &  5.3 & 43 & 1.8 & 1177 &  -6.2 & 1.38 & 0 & 0 & Autumn & No Holiday & Yes\\\\\n",
       "\t 30/11/2018 &  720 & 12 &  6.6 & 35 & 1.3 & 1409 &  -7.8 & 1.70 & 0 & 0 & Autumn & No Holiday & Yes\\\\\n",
       "\t 30/11/2018 &  740 & 13 &  7.1 & 24 & 2.8 & 1838 & -12.1 & 1.83 & 0 & 0 & Autumn & No Holiday & Yes\\\\\n",
       "\t 30/11/2018 &  761 & 14 &  7.8 & 20 & 2.2 & 2000 & -13.8 & 1.67 & 0 & 0 & Autumn & No Holiday & Yes\\\\\n",
       "\t 30/11/2018 &  768 & 15 &  7.0 & 20 & 3.3 & 1994 & -14.4 & 1.21 & 0 & 0 & Autumn & No Holiday & Yes\\\\\n",
       "\t 30/11/2018 &  837 & 16 &  7.2 & 23 & 1.5 & 1945 & -12.6 & 0.72 & 0 & 0 & Autumn & No Holiday & Yes\\\\\n",
       "\t 30/11/2018 & 1047 & 17 &  6.0 & 29 & 2.1 & 1877 & -10.7 & 0.23 & 0 & 0 & Autumn & No Holiday & Yes\\\\\n",
       "\t 30/11/2018 & 1384 & 18 &  4.7 & 34 & 1.9 & 1661 &  -9.8 & 0.00 & 0 & 0 & Autumn & No Holiday & Yes\\\\\n",
       "\t 30/11/2018 & 1003 & 19 &  4.2 & 34 & 2.6 & 1894 & -10.3 & 0.00 & 0 & 0 & Autumn & No Holiday & Yes\\\\\n",
       "\t 30/11/2018 &  764 & 20 &  3.4 & 37 & 2.3 & 2000 &  -9.9 & 0.00 & 0 & 0 & Autumn & No Holiday & Yes\\\\\n",
       "\t 30/11/2018 &  694 & 21 &  2.6 & 39 & 0.3 & 1968 &  -9.9 & 0.00 & 0 & 0 & Autumn & No Holiday & Yes\\\\\n",
       "\t 30/11/2018 &  712 & 22 &  2.1 & 41 & 1.0 & 1859 &  -9.8 & 0.00 & 0 & 0 & Autumn & No Holiday & Yes\\\\\n",
       "\t 30/11/2018 &  584 & 23 &  1.9 & 43 & 1.3 & 1909 &  -9.3 & 0.00 & 0 & 0 & Autumn & No Holiday & Yes\\\\\n",
       "\\end{tabular}\n"
      ],
      "text/markdown": [
       "\n",
       "A data.frame: 8760 × 14\n",
       "\n",
       "| Date &lt;chr&gt; | Rented.Bike.Count &lt;int&gt; | Hour &lt;int&gt; | Temperature..C. &lt;dbl&gt; | Humidity... &lt;int&gt; | Wind.speed..m.s. &lt;dbl&gt; | Visibility..10m. &lt;int&gt; | Dew.point.temperature..C. &lt;dbl&gt; | Solar.Radiation..MJ.m2. &lt;dbl&gt; | Rainfall.mm. &lt;dbl&gt; | Snowfall..cm. &lt;dbl&gt; | Seasons &lt;chr&gt; | Holiday &lt;chr&gt; | Functioning.Day &lt;chr&gt; |\n",
       "|---|---|---|---|---|---|---|---|---|---|---|---|---|---|\n",
       "| 01/12/2017 | 254 |  0 | -5.2 | 37 | 2.2 | 2000 | -17.6 | 0.00 | 0 | 0 | Winter | No Holiday | Yes |\n",
       "| 01/12/2017 | 204 |  1 | -5.5 | 38 | 0.8 | 2000 | -17.6 | 0.00 | 0 | 0 | Winter | No Holiday | Yes |\n",
       "| 01/12/2017 | 173 |  2 | -6.0 | 39 | 1.0 | 2000 | -17.7 | 0.00 | 0 | 0 | Winter | No Holiday | Yes |\n",
       "| 01/12/2017 | 107 |  3 | -6.2 | 40 | 0.9 | 2000 | -17.6 | 0.00 | 0 | 0 | Winter | No Holiday | Yes |\n",
       "| 01/12/2017 |  78 |  4 | -6.0 | 36 | 2.3 | 2000 | -18.6 | 0.00 | 0 | 0 | Winter | No Holiday | Yes |\n",
       "| 01/12/2017 | 100 |  5 | -6.4 | 37 | 1.5 | 2000 | -18.7 | 0.00 | 0 | 0 | Winter | No Holiday | Yes |\n",
       "| 01/12/2017 | 181 |  6 | -6.6 | 35 | 1.3 | 2000 | -19.5 | 0.00 | 0 | 0 | Winter | No Holiday | Yes |\n",
       "| 01/12/2017 | 460 |  7 | -7.4 | 38 | 0.9 | 2000 | -19.3 | 0.00 | 0 | 0 | Winter | No Holiday | Yes |\n",
       "| 01/12/2017 | 930 |  8 | -7.6 | 37 | 1.1 | 2000 | -19.8 | 0.01 | 0 | 0 | Winter | No Holiday | Yes |\n",
       "| 01/12/2017 | 490 |  9 | -6.5 | 27 | 0.5 | 1928 | -22.4 | 0.23 | 0 | 0 | Winter | No Holiday | Yes |\n",
       "| 01/12/2017 | 339 | 10 | -3.5 | 24 | 1.2 | 1996 | -21.2 | 0.65 | 0 | 0 | Winter | No Holiday | Yes |\n",
       "| 01/12/2017 | 360 | 11 | -0.5 | 21 | 1.3 | 1936 | -20.2 | 0.94 | 0 | 0 | Winter | No Holiday | Yes |\n",
       "| 01/12/2017 | 449 | 12 |  1.7 | 23 | 1.4 | 2000 | -17.2 | 1.11 | 0 | 0 | Winter | No Holiday | Yes |\n",
       "| 01/12/2017 | 451 | 13 |  2.4 | 25 | 1.6 | 2000 | -15.6 | 1.16 | 0 | 0 | Winter | No Holiday | Yes |\n",
       "| 01/12/2017 | 447 | 14 |  3.0 | 26 | 2.0 | 2000 | -14.6 | 1.01 | 0 | 0 | Winter | No Holiday | Yes |\n",
       "| 01/12/2017 | 463 | 15 |  2.1 | 36 | 3.2 | 2000 | -11.4 | 0.54 | 0 | 0 | Winter | No Holiday | Yes |\n",
       "| 01/12/2017 | 484 | 16 |  1.2 | 54 | 4.2 |  793 |  -7.0 | 0.24 | 0 | 0 | Winter | No Holiday | Yes |\n",
       "| 01/12/2017 | 555 | 17 |  0.8 | 58 | 1.6 | 2000 |  -6.5 | 0.08 | 0 | 0 | Winter | No Holiday | Yes |\n",
       "| 01/12/2017 | 862 | 18 |  0.6 | 66 | 1.4 | 2000 |  -5.0 | 0.00 | 0 | 0 | Winter | No Holiday | Yes |\n",
       "| 01/12/2017 | 600 | 19 |  0.0 | 77 | 1.7 | 2000 |  -3.5 | 0.00 | 0 | 0 | Winter | No Holiday | Yes |\n",
       "| 01/12/2017 | 426 | 20 | -0.3 | 79 | 1.5 | 1913 |  -3.5 | 0.00 | 0 | 0 | Winter | No Holiday | Yes |\n",
       "| 01/12/2017 | 405 | 21 | -0.8 | 81 | 0.8 | 1687 |  -3.6 | 0.00 | 0 | 0 | Winter | No Holiday | Yes |\n",
       "| 01/12/2017 | 398 | 22 | -0.9 | 83 | 1.5 | 1380 |  -3.4 | 0.00 | 0 | 0 | Winter | No Holiday | Yes |\n",
       "| 01/12/2017 | 323 | 23 | -1.3 | 84 | 1.0 | 1265 |  -3.6 | 0.00 | 0 | 0 | Winter | No Holiday | Yes |\n",
       "| 02/12/2017 | 328 |  0 | -1.8 | 87 | 1.1 |  994 |  -3.6 | 0.00 | 0 | 0 | Winter | No Holiday | Yes |\n",
       "| 02/12/2017 | 308 |  1 | -2.2 | 86 | 0.6 |  990 |  -4.2 | 0.00 | 0 | 0 | Winter | No Holiday | Yes |\n",
       "| 02/12/2017 | 262 |  2 | -2.9 | 86 | 1.5 | 1256 |  -4.9 | 0.00 | 0 | 0 | Winter | No Holiday | Yes |\n",
       "| 02/12/2017 | 167 |  3 | -3.5 | 81 | 2.2 | 1221 |  -6.2 | 0.00 | 0 | 0 | Winter | No Holiday | Yes |\n",
       "| 02/12/2017 |  89 |  4 | -3.8 | 79 | 2.0 | 1167 |  -6.9 | 0.00 | 0 | 0 | Winter | No Holiday | Yes |\n",
       "| 02/12/2017 |  79 |  5 | -4.0 | 79 | 1.5 | 1202 |  -7.1 | 0.00 | 0 | 0 | Winter | No Holiday | Yes |\n",
       "| ⋮ | ⋮ | ⋮ | ⋮ | ⋮ | ⋮ | ⋮ | ⋮ | ⋮ | ⋮ | ⋮ | ⋮ | ⋮ | ⋮ |\n",
       "| 29/11/2018 | 1577 | 18 |  0.0 | 46 | 0.9 | 1566 |  -4.8 | 0.00 | 0 | 0 | Autumn | No Holiday | Yes |\n",
       "| 29/11/2018 | 1026 | 19 |  5.2 | 48 | 1.9 | 1590 |  -4.9 | 0.00 | 0 | 0 | Autumn | No Holiday | Yes |\n",
       "| 29/11/2018 |  818 | 20 |  4.1 | 54 | 1.3 | 1434 |  -4.3 | 0.00 | 0 | 0 | Autumn | No Holiday | Yes |\n",
       "| 29/11/2018 |  792 | 21 |  3.8 | 55 | 2.1 | 1231 |  -4.4 | 0.00 | 0 | 0 | Autumn | No Holiday | Yes |\n",
       "| 29/11/2018 |  726 | 22 |  3.0 | 59 | 1.1 | 1218 |  -4.2 | 0.00 | 0 | 0 | Autumn | No Holiday | Yes |\n",
       "| 29/11/2018 |  559 | 23 |  2.6 | 56 | 1.9 | 1394 |  -5.3 | 0.00 | 0 | 0 | Autumn | No Holiday | Yes |\n",
       "| 30/11/2018 |  474 |  0 |  1.8 | 62 | 1.6 | 1411 |  -4.7 | 0.00 | 0 | 0 | Autumn | No Holiday | Yes |\n",
       "| 30/11/2018 |  456 |  1 |  1.3 | 63 | 2.0 | 1379 |  -4.9 | 0.00 | 0 | 0 | Autumn | No Holiday | Yes |\n",
       "| 30/11/2018 |  300 |  2 |  0.6 | 66 | 0.5 | 1368 |  -5.0 | 0.00 | 0 | 0 | Autumn | No Holiday | Yes |\n",
       "| 30/11/2018 |  213 |  3 | -0.1 | 69 | 0.9 | 1338 |  -5.1 | 0.00 | 0 | 0 | Autumn | No Holiday | Yes |\n",
       "| 30/11/2018 |  116 |  4 | -0.5 | 71 | 0.4 | 1345 |  -5.1 | 0.00 | 0 | 0 | Autumn | No Holiday | Yes |\n",
       "| 30/11/2018 |  149 |  5 | -0.7 | 66 | 0.5 | 1336 |  -6.2 | 0.00 | 0 | 0 | Autumn | No Holiday | Yes |\n",
       "| 30/11/2018 |  293 |  6 | -0.8 | 68 | 0.8 | 1322 |  -5.9 | 0.00 | 0 | 0 | Autumn | No Holiday | Yes |\n",
       "| 30/11/2018 |  750 |  7 | -1.2 | 70 | 0.8 | 1351 |  -5.9 | 0.00 | 0 | 0 | Autumn | No Holiday | Yes |\n",
       "| 30/11/2018 | 1527 |  8 | -1.5 | 68 | 1.1 | 1286 |  -6.6 | 0.02 | 0 | 0 | Autumn | No Holiday | Yes |\n",
       "| 30/11/2018 |  809 |  9 | -0.4 | 57 | 0.6 | 1270 |  -7.8 | 0.45 | 0 | 0 | Autumn | No Holiday | Yes |\n",
       "| 30/11/2018 |  554 | 10 |  1.9 | 51 | 0.8 | 1029 |  -7.1 | 1.01 | 0 | 0 | Autumn | No Holiday | Yes |\n",
       "| 30/11/2018 |  642 | 11 |  5.3 | 43 | 1.8 | 1177 |  -6.2 | 1.38 | 0 | 0 | Autumn | No Holiday | Yes |\n",
       "| 30/11/2018 |  720 | 12 |  6.6 | 35 | 1.3 | 1409 |  -7.8 | 1.70 | 0 | 0 | Autumn | No Holiday | Yes |\n",
       "| 30/11/2018 |  740 | 13 |  7.1 | 24 | 2.8 | 1838 | -12.1 | 1.83 | 0 | 0 | Autumn | No Holiday | Yes |\n",
       "| 30/11/2018 |  761 | 14 |  7.8 | 20 | 2.2 | 2000 | -13.8 | 1.67 | 0 | 0 | Autumn | No Holiday | Yes |\n",
       "| 30/11/2018 |  768 | 15 |  7.0 | 20 | 3.3 | 1994 | -14.4 | 1.21 | 0 | 0 | Autumn | No Holiday | Yes |\n",
       "| 30/11/2018 |  837 | 16 |  7.2 | 23 | 1.5 | 1945 | -12.6 | 0.72 | 0 | 0 | Autumn | No Holiday | Yes |\n",
       "| 30/11/2018 | 1047 | 17 |  6.0 | 29 | 2.1 | 1877 | -10.7 | 0.23 | 0 | 0 | Autumn | No Holiday | Yes |\n",
       "| 30/11/2018 | 1384 | 18 |  4.7 | 34 | 1.9 | 1661 |  -9.8 | 0.00 | 0 | 0 | Autumn | No Holiday | Yes |\n",
       "| 30/11/2018 | 1003 | 19 |  4.2 | 34 | 2.6 | 1894 | -10.3 | 0.00 | 0 | 0 | Autumn | No Holiday | Yes |\n",
       "| 30/11/2018 |  764 | 20 |  3.4 | 37 | 2.3 | 2000 |  -9.9 | 0.00 | 0 | 0 | Autumn | No Holiday | Yes |\n",
       "| 30/11/2018 |  694 | 21 |  2.6 | 39 | 0.3 | 1968 |  -9.9 | 0.00 | 0 | 0 | Autumn | No Holiday | Yes |\n",
       "| 30/11/2018 |  712 | 22 |  2.1 | 41 | 1.0 | 1859 |  -9.8 | 0.00 | 0 | 0 | Autumn | No Holiday | Yes |\n",
       "| 30/11/2018 |  584 | 23 |  1.9 | 43 | 1.3 | 1909 |  -9.3 | 0.00 | 0 | 0 | Autumn | No Holiday | Yes |\n",
       "\n"
      ],
      "text/plain": [
       "     Date       Rented.Bike.Count Hour Temperature..C. Humidity...\n",
       "1    01/12/2017 254                0   -5.2            37         \n",
       "2    01/12/2017 204                1   -5.5            38         \n",
       "3    01/12/2017 173                2   -6.0            39         \n",
       "4    01/12/2017 107                3   -6.2            40         \n",
       "5    01/12/2017  78                4   -6.0            36         \n",
       "6    01/12/2017 100                5   -6.4            37         \n",
       "7    01/12/2017 181                6   -6.6            35         \n",
       "8    01/12/2017 460                7   -7.4            38         \n",
       "9    01/12/2017 930                8   -7.6            37         \n",
       "10   01/12/2017 490                9   -6.5            27         \n",
       "11   01/12/2017 339               10   -3.5            24         \n",
       "12   01/12/2017 360               11   -0.5            21         \n",
       "13   01/12/2017 449               12    1.7            23         \n",
       "14   01/12/2017 451               13    2.4            25         \n",
       "15   01/12/2017 447               14    3.0            26         \n",
       "16   01/12/2017 463               15    2.1            36         \n",
       "17   01/12/2017 484               16    1.2            54         \n",
       "18   01/12/2017 555               17    0.8            58         \n",
       "19   01/12/2017 862               18    0.6            66         \n",
       "20   01/12/2017 600               19    0.0            77         \n",
       "21   01/12/2017 426               20   -0.3            79         \n",
       "22   01/12/2017 405               21   -0.8            81         \n",
       "23   01/12/2017 398               22   -0.9            83         \n",
       "24   01/12/2017 323               23   -1.3            84         \n",
       "25   02/12/2017 328                0   -1.8            87         \n",
       "26   02/12/2017 308                1   -2.2            86         \n",
       "27   02/12/2017 262                2   -2.9            86         \n",
       "28   02/12/2017 167                3   -3.5            81         \n",
       "29   02/12/2017  89                4   -3.8            79         \n",
       "30   02/12/2017  79                5   -4.0            79         \n",
       "<U+22EE>    <U+22EE>   <U+22EE>          <U+22EE> <U+22EE>        <U+22EE>   \n",
       "8731 29/11/2018 1577              18    0.0            46         \n",
       "8732 29/11/2018 1026              19    5.2            48         \n",
       "8733 29/11/2018  818              20    4.1            54         \n",
       "8734 29/11/2018  792              21    3.8            55         \n",
       "8735 29/11/2018  726              22    3.0            59         \n",
       "8736 29/11/2018  559              23    2.6            56         \n",
       "8737 30/11/2018  474               0    1.8            62         \n",
       "8738 30/11/2018  456               1    1.3            63         \n",
       "8739 30/11/2018  300               2    0.6            66         \n",
       "8740 30/11/2018  213               3   -0.1            69         \n",
       "8741 30/11/2018  116               4   -0.5            71         \n",
       "8742 30/11/2018  149               5   -0.7            66         \n",
       "8743 30/11/2018  293               6   -0.8            68         \n",
       "8744 30/11/2018  750               7   -1.2            70         \n",
       "8745 30/11/2018 1527               8   -1.5            68         \n",
       "8746 30/11/2018  809               9   -0.4            57         \n",
       "8747 30/11/2018  554              10    1.9            51         \n",
       "8748 30/11/2018  642              11    5.3            43         \n",
       "8749 30/11/2018  720              12    6.6            35         \n",
       "8750 30/11/2018  740              13    7.1            24         \n",
       "8751 30/11/2018  761              14    7.8            20         \n",
       "8752 30/11/2018  768              15    7.0            20         \n",
       "8753 30/11/2018  837              16    7.2            23         \n",
       "8754 30/11/2018 1047              17    6.0            29         \n",
       "8755 30/11/2018 1384              18    4.7            34         \n",
       "8756 30/11/2018 1003              19    4.2            34         \n",
       "8757 30/11/2018  764              20    3.4            37         \n",
       "8758 30/11/2018  694              21    2.6            39         \n",
       "8759 30/11/2018  712              22    2.1            41         \n",
       "8760 30/11/2018  584              23    1.9            43         \n",
       "     Wind.speed..m.s. Visibility..10m. Dew.point.temperature..C.\n",
       "1    2.2              2000             -17.6                    \n",
       "2    0.8              2000             -17.6                    \n",
       "3    1.0              2000             -17.7                    \n",
       "4    0.9              2000             -17.6                    \n",
       "5    2.3              2000             -18.6                    \n",
       "6    1.5              2000             -18.7                    \n",
       "7    1.3              2000             -19.5                    \n",
       "8    0.9              2000             -19.3                    \n",
       "9    1.1              2000             -19.8                    \n",
       "10   0.5              1928             -22.4                    \n",
       "11   1.2              1996             -21.2                    \n",
       "12   1.3              1936             -20.2                    \n",
       "13   1.4              2000             -17.2                    \n",
       "14   1.6              2000             -15.6                    \n",
       "15   2.0              2000             -14.6                    \n",
       "16   3.2              2000             -11.4                    \n",
       "17   4.2               793              -7.0                    \n",
       "18   1.6              2000              -6.5                    \n",
       "19   1.4              2000              -5.0                    \n",
       "20   1.7              2000              -3.5                    \n",
       "21   1.5              1913              -3.5                    \n",
       "22   0.8              1687              -3.6                    \n",
       "23   1.5              1380              -3.4                    \n",
       "24   1.0              1265              -3.6                    \n",
       "25   1.1               994              -3.6                    \n",
       "26   0.6               990              -4.2                    \n",
       "27   1.5              1256              -4.9                    \n",
       "28   2.2              1221              -6.2                    \n",
       "29   2.0              1167              -6.9                    \n",
       "30   1.5              1202              -7.1                    \n",
       "<U+22EE>    <U+22EE>         <U+22EE>         <U+22EE>                 \n",
       "8731 0.9              1566              -4.8                    \n",
       "8732 1.9              1590              -4.9                    \n",
       "8733 1.3              1434              -4.3                    \n",
       "8734 2.1              1231              -4.4                    \n",
       "8735 1.1              1218              -4.2                    \n",
       "8736 1.9              1394              -5.3                    \n",
       "8737 1.6              1411              -4.7                    \n",
       "8738 2.0              1379              -4.9                    \n",
       "8739 0.5              1368              -5.0                    \n",
       "8740 0.9              1338              -5.1                    \n",
       "8741 0.4              1345              -5.1                    \n",
       "8742 0.5              1336              -6.2                    \n",
       "8743 0.8              1322              -5.9                    \n",
       "8744 0.8              1351              -5.9                    \n",
       "8745 1.1              1286              -6.6                    \n",
       "8746 0.6              1270              -7.8                    \n",
       "8747 0.8              1029              -7.1                    \n",
       "8748 1.8              1177              -6.2                    \n",
       "8749 1.3              1409              -7.8                    \n",
       "8750 2.8              1838             -12.1                    \n",
       "8751 2.2              2000             -13.8                    \n",
       "8752 3.3              1994             -14.4                    \n",
       "8753 1.5              1945             -12.6                    \n",
       "8754 2.1              1877             -10.7                    \n",
       "8755 1.9              1661              -9.8                    \n",
       "8756 2.6              1894             -10.3                    \n",
       "8757 2.3              2000              -9.9                    \n",
       "8758 0.3              1968              -9.9                    \n",
       "8759 1.0              1859              -9.8                    \n",
       "8760 1.3              1909              -9.3                    \n",
       "     Solar.Radiation..MJ.m2. Rainfall.mm. Snowfall..cm. Seasons Holiday   \n",
       "1    0.00                    0            0             Winter  No Holiday\n",
       "2    0.00                    0            0             Winter  No Holiday\n",
       "3    0.00                    0            0             Winter  No Holiday\n",
       "4    0.00                    0            0             Winter  No Holiday\n",
       "5    0.00                    0            0             Winter  No Holiday\n",
       "6    0.00                    0            0             Winter  No Holiday\n",
       "7    0.00                    0            0             Winter  No Holiday\n",
       "8    0.00                    0            0             Winter  No Holiday\n",
       "9    0.01                    0            0             Winter  No Holiday\n",
       "10   0.23                    0            0             Winter  No Holiday\n",
       "11   0.65                    0            0             Winter  No Holiday\n",
       "12   0.94                    0            0             Winter  No Holiday\n",
       "13   1.11                    0            0             Winter  No Holiday\n",
       "14   1.16                    0            0             Winter  No Holiday\n",
       "15   1.01                    0            0             Winter  No Holiday\n",
       "16   0.54                    0            0             Winter  No Holiday\n",
       "17   0.24                    0            0             Winter  No Holiday\n",
       "18   0.08                    0            0             Winter  No Holiday\n",
       "19   0.00                    0            0             Winter  No Holiday\n",
       "20   0.00                    0            0             Winter  No Holiday\n",
       "21   0.00                    0            0             Winter  No Holiday\n",
       "22   0.00                    0            0             Winter  No Holiday\n",
       "23   0.00                    0            0             Winter  No Holiday\n",
       "24   0.00                    0            0             Winter  No Holiday\n",
       "25   0.00                    0            0             Winter  No Holiday\n",
       "26   0.00                    0            0             Winter  No Holiday\n",
       "27   0.00                    0            0             Winter  No Holiday\n",
       "28   0.00                    0            0             Winter  No Holiday\n",
       "29   0.00                    0            0             Winter  No Holiday\n",
       "30   0.00                    0            0             Winter  No Holiday\n",
       "<U+22EE>    <U+22EE>                <U+22EE>     <U+22EE>      <U+22EE> <U+22EE>  \n",
       "8731 0.00                    0            0             Autumn  No Holiday\n",
       "8732 0.00                    0            0             Autumn  No Holiday\n",
       "8733 0.00                    0            0             Autumn  No Holiday\n",
       "8734 0.00                    0            0             Autumn  No Holiday\n",
       "8735 0.00                    0            0             Autumn  No Holiday\n",
       "8736 0.00                    0            0             Autumn  No Holiday\n",
       "8737 0.00                    0            0             Autumn  No Holiday\n",
       "8738 0.00                    0            0             Autumn  No Holiday\n",
       "8739 0.00                    0            0             Autumn  No Holiday\n",
       "8740 0.00                    0            0             Autumn  No Holiday\n",
       "8741 0.00                    0            0             Autumn  No Holiday\n",
       "8742 0.00                    0            0             Autumn  No Holiday\n",
       "8743 0.00                    0            0             Autumn  No Holiday\n",
       "8744 0.00                    0            0             Autumn  No Holiday\n",
       "8745 0.02                    0            0             Autumn  No Holiday\n",
       "8746 0.45                    0            0             Autumn  No Holiday\n",
       "8747 1.01                    0            0             Autumn  No Holiday\n",
       "8748 1.38                    0            0             Autumn  No Holiday\n",
       "8749 1.70                    0            0             Autumn  No Holiday\n",
       "8750 1.83                    0            0             Autumn  No Holiday\n",
       "8751 1.67                    0            0             Autumn  No Holiday\n",
       "8752 1.21                    0            0             Autumn  No Holiday\n",
       "8753 0.72                    0            0             Autumn  No Holiday\n",
       "8754 0.23                    0            0             Autumn  No Holiday\n",
       "8755 0.00                    0            0             Autumn  No Holiday\n",
       "8756 0.00                    0            0             Autumn  No Holiday\n",
       "8757 0.00                    0            0             Autumn  No Holiday\n",
       "8758 0.00                    0            0             Autumn  No Holiday\n",
       "8759 0.00                    0            0             Autumn  No Holiday\n",
       "8760 0.00                    0            0             Autumn  No Holiday\n",
       "     Functioning.Day\n",
       "1    Yes            \n",
       "2    Yes            \n",
       "3    Yes            \n",
       "4    Yes            \n",
       "5    Yes            \n",
       "6    Yes            \n",
       "7    Yes            \n",
       "8    Yes            \n",
       "9    Yes            \n",
       "10   Yes            \n",
       "11   Yes            \n",
       "12   Yes            \n",
       "13   Yes            \n",
       "14   Yes            \n",
       "15   Yes            \n",
       "16   Yes            \n",
       "17   Yes            \n",
       "18   Yes            \n",
       "19   Yes            \n",
       "20   Yes            \n",
       "21   Yes            \n",
       "22   Yes            \n",
       "23   Yes            \n",
       "24   Yes            \n",
       "25   Yes            \n",
       "26   Yes            \n",
       "27   Yes            \n",
       "28   Yes            \n",
       "29   Yes            \n",
       "30   Yes            \n",
       "<U+22EE>    <U+22EE>       \n",
       "8731 Yes            \n",
       "8732 Yes            \n",
       "8733 Yes            \n",
       "8734 Yes            \n",
       "8735 Yes            \n",
       "8736 Yes            \n",
       "8737 Yes            \n",
       "8738 Yes            \n",
       "8739 Yes            \n",
       "8740 Yes            \n",
       "8741 Yes            \n",
       "8742 Yes            \n",
       "8743 Yes            \n",
       "8744 Yes            \n",
       "8745 Yes            \n",
       "8746 Yes            \n",
       "8747 Yes            \n",
       "8748 Yes            \n",
       "8749 Yes            \n",
       "8750 Yes            \n",
       "8751 Yes            \n",
       "8752 Yes            \n",
       "8753 Yes            \n",
       "8754 Yes            \n",
       "8755 Yes            \n",
       "8756 Yes            \n",
       "8757 Yes            \n",
       "8758 Yes            \n",
       "8759 Yes            \n",
       "8760 Yes            "
      ]
     },
     "metadata": {},
     "output_type": "display_data"
    }
   ],
   "source": [
    "df"
   ]
  },
  {
   "cell_type": "code",
   "execution_count": 66,
   "id": "24ab4b0e",
   "metadata": {},
   "outputs": [
    {
     "data": {
      "text/html": [
       "<style>\n",
       ".list-inline {list-style: none; margin:0; padding: 0}\n",
       ".list-inline>li {display: inline-block}\n",
       ".list-inline>li:not(:last-child)::after {content: \"\\00b7\"; padding: 0 .5ex}\n",
       "</style>\n",
       "<ol class=list-inline><li>'Date'</li><li>'Rented.Bike.Count'</li><li>'Hour'</li><li>'Temperature..C.'</li><li>'Humidity...'</li><li>'Wind.speed..m.s.'</li><li>'Visibility..10m.'</li><li>'Dew.point.temperature..C.'</li><li>'Solar.Radiation..MJ.m2.'</li><li>'Rainfall.mm.'</li><li>'Snowfall..cm.'</li><li>'Seasons'</li><li>'Holiday'</li><li>'Functioning.Day'</li></ol>\n"
      ],
      "text/latex": [
       "\\begin{enumerate*}\n",
       "\\item 'Date'\n",
       "\\item 'Rented.Bike.Count'\n",
       "\\item 'Hour'\n",
       "\\item 'Temperature..C.'\n",
       "\\item 'Humidity...'\n",
       "\\item 'Wind.speed..m.s.'\n",
       "\\item 'Visibility..10m.'\n",
       "\\item 'Dew.point.temperature..C.'\n",
       "\\item 'Solar.Radiation..MJ.m2.'\n",
       "\\item 'Rainfall.mm.'\n",
       "\\item 'Snowfall..cm.'\n",
       "\\item 'Seasons'\n",
       "\\item 'Holiday'\n",
       "\\item 'Functioning.Day'\n",
       "\\end{enumerate*}\n"
      ],
      "text/markdown": [
       "1. 'Date'\n",
       "2. 'Rented.Bike.Count'\n",
       "3. 'Hour'\n",
       "4. 'Temperature..C.'\n",
       "5. 'Humidity...'\n",
       "6. 'Wind.speed..m.s.'\n",
       "7. 'Visibility..10m.'\n",
       "8. 'Dew.point.temperature..C.'\n",
       "9. 'Solar.Radiation..MJ.m2.'\n",
       "10. 'Rainfall.mm.'\n",
       "11. 'Snowfall..cm.'\n",
       "12. 'Seasons'\n",
       "13. 'Holiday'\n",
       "14. 'Functioning.Day'\n",
       "\n",
       "\n"
      ],
      "text/plain": [
       " [1] \"Date\"                      \"Rented.Bike.Count\"        \n",
       " [3] \"Hour\"                      \"Temperature..C.\"          \n",
       " [5] \"Humidity...\"               \"Wind.speed..m.s.\"         \n",
       " [7] \"Visibility..10m.\"          \"Dew.point.temperature..C.\"\n",
       " [9] \"Solar.Radiation..MJ.m2.\"   \"Rainfall.mm.\"             \n",
       "[11] \"Snowfall..cm.\"             \"Seasons\"                  \n",
       "[13] \"Holiday\"                   \"Functioning.Day\"          "
      ]
     },
     "metadata": {},
     "output_type": "display_data"
    }
   ],
   "source": [
    "names(df)"
   ]
  },
  {
   "cell_type": "code",
   "execution_count": 67,
   "id": "3776c159",
   "metadata": {},
   "outputs": [
    {
     "data": {
      "text/plain": [
       "\n",
       " FALSE \n",
       "122640 "
      ]
     },
     "metadata": {},
     "output_type": "display_data"
    }
   ],
   "source": [
    "# % missing values\n",
    "table(is.na(df))"
   ]
  },
  {
   "cell_type": "code",
   "execution_count": 68,
   "id": "6fac900d",
   "metadata": {
    "scrolled": true
   },
   "outputs": [
    {
     "data": {
      "text/html": [
       "<style>\n",
       ".list-inline {list-style: none; margin:0; padding: 0}\n",
       ".list-inline>li {display: inline-block}\n",
       ".list-inline>li:not(:last-child)::after {content: \"\\00b7\"; padding: 0 .5ex}\n",
       "</style>\n",
       "<ol class=list-inline><li>8760</li><li>14</li></ol>\n"
      ],
      "text/latex": [
       "\\begin{enumerate*}\n",
       "\\item 8760\n",
       "\\item 14\n",
       "\\end{enumerate*}\n"
      ],
      "text/markdown": [
       "1. 8760\n",
       "2. 14\n",
       "\n",
       "\n"
      ],
      "text/plain": [
       "[1] 8760   14"
      ]
     },
     "metadata": {},
     "output_type": "display_data"
    }
   ],
   "source": [
    "# Values in data\n",
    "dim(df)"
   ]
  },
  {
   "cell_type": "code",
   "execution_count": 69,
   "id": "36fa6493",
   "metadata": {
    "scrolled": true
   },
   "outputs": [
    {
     "data": {
      "text/html": [
       "<style>\n",
       ".list-inline {list-style: none; margin:0; padding: 0}\n",
       ".list-inline>li {display: inline-block}\n",
       ".list-inline>li:not(:last-child)::after {content: \"\\00b7\"; padding: 0 .5ex}\n",
       "</style>\n",
       "<ol class=list-inline><li>'Winter'</li><li>'Spring'</li><li>'Summer'</li><li>'Autumn'</li></ol>\n"
      ],
      "text/latex": [
       "\\begin{enumerate*}\n",
       "\\item 'Winter'\n",
       "\\item 'Spring'\n",
       "\\item 'Summer'\n",
       "\\item 'Autumn'\n",
       "\\end{enumerate*}\n"
      ],
      "text/markdown": [
       "1. 'Winter'\n",
       "2. 'Spring'\n",
       "3. 'Summer'\n",
       "4. 'Autumn'\n",
       "\n",
       "\n"
      ],
      "text/plain": [
       "[1] \"Winter\" \"Spring\" \"Summer\" \"Autumn\""
      ]
     },
     "metadata": {},
     "output_type": "display_data"
    },
    {
     "data": {
      "text/html": [
       "<style>\n",
       ".list-inline {list-style: none; margin:0; padding: 0}\n",
       ".list-inline>li {display: inline-block}\n",
       ".list-inline>li:not(:last-child)::after {content: \"\\00b7\"; padding: 0 .5ex}\n",
       "</style>\n",
       "<ol class=list-inline><li>'No Holiday'</li><li>'Holiday'</li></ol>\n"
      ],
      "text/latex": [
       "\\begin{enumerate*}\n",
       "\\item 'No Holiday'\n",
       "\\item 'Holiday'\n",
       "\\end{enumerate*}\n"
      ],
      "text/markdown": [
       "1. 'No Holiday'\n",
       "2. 'Holiday'\n",
       "\n",
       "\n"
      ],
      "text/plain": [
       "[1] \"No Holiday\" \"Holiday\"   "
      ]
     },
     "metadata": {},
     "output_type": "display_data"
    },
    {
     "data": {
      "text/html": [
       "<style>\n",
       ".list-inline {list-style: none; margin:0; padding: 0}\n",
       ".list-inline>li {display: inline-block}\n",
       ".list-inline>li:not(:last-child)::after {content: \"\\00b7\"; padding: 0 .5ex}\n",
       "</style>\n",
       "<ol class=list-inline><li>'Yes'</li><li>'No'</li></ol>\n"
      ],
      "text/latex": [
       "\\begin{enumerate*}\n",
       "\\item 'Yes'\n",
       "\\item 'No'\n",
       "\\end{enumerate*}\n"
      ],
      "text/markdown": [
       "1. 'Yes'\n",
       "2. 'No'\n",
       "\n",
       "\n"
      ],
      "text/plain": [
       "[1] \"Yes\" \"No\" "
      ]
     },
     "metadata": {},
     "output_type": "display_data"
    }
   ],
   "source": [
    "# Check unique values for categorical variables (except Date)\n",
    "\n",
    "unique(df$Seasons)\n",
    "unique(df$Holiday)\n",
    "unique(df$Functioning.Day)"
   ]
  },
  {
   "cell_type": "code",
   "execution_count": 70,
   "id": "793cdc15",
   "metadata": {
    "scrolled": true
   },
   "outputs": [
    {
     "data": {
      "text/html": [
       "365"
      ],
      "text/latex": [
       "365"
      ],
      "text/markdown": [
       "365"
      ],
      "text/plain": [
       "[1] 365"
      ]
     },
     "metadata": {},
     "output_type": "display_data"
    }
   ],
   "source": [
    "# Number of unique dates\n",
    "length(unique(df$Date))"
   ]
  },
  {
   "cell_type": "code",
   "execution_count": 71,
   "id": "b5ae3f48",
   "metadata": {
    "scrolled": true
   },
   "outputs": [
    {
     "data": {
      "image/png": "[encoded data removed]",
      "text/plain": [
       "plot without title"
      ]
     },
     "metadata": {
      "image/png": {
       "height": 600,
       "width": 600
      }
     },
     "output_type": "display_data"
    }
   ],
   "source": [
    "pairs(df[,c(2:11)], col = 'orange', pch=20)"
   ]
  },
  {
   "cell_type": "code",
   "execution_count": 72,
   "id": "b6418ff3",
   "metadata": {},
   "outputs": [
    {
     "data": {
      "image/png": "[encoded data removed]",
      "text/plain": [
       "plot without title"
      ]
     },
     "metadata": {
      "image/png": {
       "height": 600,
       "width": 600
      }
     },
     "output_type": "display_data"
    }
   ],
   "source": [
    "cormat = melt(cor(df[,c(2:11)]))\n",
    "ggplot(data = cormat, aes(x=Var1, y=Var2, fill=value)) +\n",
    "geom_tile() +  \n",
    "guides(x =  guide_axis(angle = -45)) + \n",
    "geom_text(aes(label = formatC(value, digits = 2, format = 'f'))) +\n",
    "scale_fill_gradient(low = \"#ffffff\",\n",
    "                    high = \"#ff8c00\",\n",
    "                    guide = \"colorbar\")"
   ]
  },
  {
   "cell_type": "markdown",
   "id": "132b779c",
   "metadata": {},
   "source": [
    "#### Initial Data Notes:\n",
    "- Dates are in DD/MM/YYYY format, maybe consider altering format to be more machine readable\n",
    "- All other data points are numeric except seasons, holiday and functioning.day\n",
    "- These are all easily encodable (though unnecessary to do in R)\n",
    "- No missing values :)"
   ]
  },
  {
   "cell_type": "code",
   "execution_count": 73,
   "id": "dcd61755",
   "metadata": {},
   "outputs": [],
   "source": [
    "# Subset data frame for regression\n",
    "reg_frame = subset(df, select = -c(Date))"
   ]
  },
  {
   "cell_type": "code",
   "execution_count": 74,
   "id": "51610728",
   "metadata": {},
   "outputs": [],
   "source": [
    "# Encode Seasons variable (ordinal)\n",
    "# Spring - 1, Summer - 2, Autumn - 3, Winter - 4\n",
    "reg_frame$Seasons = as.numeric(factor(reg_frame$Seasons, levels = c('Spring', 'Summer', 'Autumn', 'Winter'), ordered = TRUE))"
   ]
  },
  {
   "cell_type": "code",
   "execution_count": 77,
   "id": "d6da78b7",
   "metadata": {},
   "outputs": [
    {
     "data": {
      "text/html": [
       "<style>\n",
       ".list-inline {list-style: none; margin:0; padding: 0}\n",
       ".list-inline>li {display: inline-block}\n",
       ".list-inline>li:not(:last-child)::after {content: \"\\00b7\"; padding: 0 .5ex}\n",
       "</style>\n",
       "<ol class=list-inline><li>6570</li><li>13</li></ol>\n"
      ],
      "text/latex": [
       "\\begin{enumerate*}\n",
       "\\item 6570\n",
       "\\item 13\n",
       "\\end{enumerate*}\n"
      ],
      "text/markdown": [
       "1. 6570\n",
       "2. 13\n",
       "\n",
       "\n"
      ],
      "text/plain": [
       "[1] 6570   13"
      ]
     },
     "metadata": {},
     "output_type": "display_data"
    },
    {
     "data": {
      "text/html": [
       "<style>\n",
       ".list-inline {list-style: none; margin:0; padding: 0}\n",
       ".list-inline>li {display: inline-block}\n",
       ".list-inline>li:not(:last-child)::after {content: \"\\00b7\"; padding: 0 .5ex}\n",
       "</style>\n",
       "<ol class=list-inline><li>2190</li><li>13</li></ol>\n"
      ],
      "text/latex": [
       "\\begin{enumerate*}\n",
       "\\item 2190\n",
       "\\item 13\n",
       "\\end{enumerate*}\n"
      ],
      "text/markdown": [
       "1. 2190\n",
       "2. 13\n",
       "\n",
       "\n"
      ],
      "text/plain": [
       "[1] 2190   13"
      ]
     },
     "metadata": {},
     "output_type": "display_data"
    }
   ],
   "source": [
    "# Split data into training and test set\n",
    "split = sort(sample(nrow(reg_frame), nrow(reg_frame)*.75))\n",
    "train = reg_frame[split,]\n",
    "test = reg_frame[-split,]"
   ]
  },
  {
   "cell_type": "code",
   "execution_count": 79,
   "id": "3c4e95d5",
   "metadata": {},
   "outputs": [],
   "source": [
    "# Create initial model (no interaction)\n",
    "mod_1 = lm(Rented.Bike.Count~., data = train)"
   ]
  },
  {
   "cell_type": "code",
   "execution_count": 80,
   "id": "908c2f4f",
   "metadata": {
    "collapsed": true
   },
   "outputs": [
    {
     "data": {
      "text/plain": [
       "\n",
       "Call:\n",
       "lm(formula = Rented.Bike.Count ~ ., data = train)\n",
       "\n",
       "Residuals:\n",
       "     Min       1Q   Median       3Q      Max \n",
       "-1274.35  -290.65   -43.95   212.43  2260.40 \n",
       "\n",
       "Coefficients:\n",
       "                            Estimate Std. Error t value Pr(>|t|)    \n",
       "(Intercept)               -318.17744  117.34772  -2.711  0.00672 ** \n",
       "Hour                        27.79796    0.86577  32.108  < 2e-16 ***\n",
       "Temperature..C.             24.10850    4.28306   5.629 1.89e-08 ***\n",
       "Humidity...                 -8.51562    1.20320  -7.077 1.62e-12 ***\n",
       "Wind.speed..m.s.             4.59927    5.95591   0.772  0.44001    \n",
       "Visibility..10m.             0.04674    0.01134   4.123 3.78e-05 ***\n",
       "Dew.point.temperature..C.    6.33625    4.48598   1.412  0.15786    \n",
       "Solar.Radiation..MJ.m2.    -73.81367    9.04449  -8.161 3.94e-16 ***\n",
       "Rainfall.mm.               -69.58022    5.39435 -12.899  < 2e-16 ***\n",
       "Snowfall..cm.               20.83177   12.74171   1.635  0.10211    \n",
       "Seasons                    -32.16874    6.11748  -5.258 1.50e-07 ***\n",
       "HolidayNo Holiday          132.57656   25.71331   5.156 2.60e-07 ***\n",
       "Functioning.DayYes         821.69603   30.29778  27.121  < 2e-16 ***\n",
       "---\n",
       "Signif. codes:  0 '***' 0.001 '**' 0.01 '*' 0.05 '.' 0.1 ' ' 1\n",
       "\n",
       "Residual standard error: 444.2 on 6557 degrees of freedom\n",
       "Multiple R-squared:  0.5303,\tAdjusted R-squared:  0.5294 \n",
       "F-statistic: 616.9 on 12 and 6557 DF,  p-value: < 2.2e-16\n"
      ]
     },
     "metadata": {},
     "output_type": "display_data"
    }
   ],
   "source": [
    "summary(mod_1)"
   ]
  },
  {
   "cell_type": "code",
   "execution_count": 89,
   "id": "27e770e8",
   "metadata": {
    "scrolled": true
   },
   "outputs": [
    {
     "data": {
      "text/html": [
       "445.72435717952"
      ],
      "text/latex": [
       "445.72435717952"
      ],
      "text/markdown": [
       "445.72435717952"
      ],
      "text/plain": [
       "[1] 445.7244"
      ]
     },
     "metadata": {},
     "output_type": "display_data"
    }
   ],
   "source": [
    "# RMSE is high considering that the test set has a quarter of the samples that the training set does\n",
    "p = predict(mod_1, test)\n",
    "rmse(test$Rented.Bike.Count, p)"
   ]
  },
  {
   "cell_type": "code",
   "execution_count": 93,
   "id": "acb5386a",
   "metadata": {},
   "outputs": [],
   "source": [
    "# Second model (with interaction)\n",
    "mod_2 = lm(Rented.Bike.Count~.^2, data = train)"
   ]
  },
  {
   "cell_type": "code",
   "execution_count": 94,
   "id": "c3a1c9ec",
   "metadata": {},
   "outputs": [
    {
     "data": {
      "text/plain": [
       "\n",
       "Call:\n",
       "lm(formula = Rented.Bike.Count ~ .^2, data = train)\n",
       "\n",
       "Residuals:\n",
       "     Min       1Q   Median       3Q      Max \n",
       "-1450.59  -222.54   -44.21   160.03  1892.33 \n",
       "\n",
       "Coefficients: (1 not defined because of singularities)\n",
       "                                                    Estimate Std. Error t value\n",
       "(Intercept)                                       -1.708e+03  1.124e+03  -1.519\n",
       "Hour                                               2.350e+01  2.578e+01   0.911\n",
       "Temperature..C.                                    3.132e+01  4.550e+01   0.688\n",
       "Humidity...                                        2.450e+01  1.237e+01   1.980\n",
       "Wind.speed..m.s.                                   2.075e+02  1.255e+02   1.653\n",
       "Visibility..10m.                                  -3.337e-01  2.621e-01  -1.273\n",
       "Dew.point.temperature..C.                         -2.414e+00  4.568e+01  -0.053\n",
       "Solar.Radiation..MJ.m2.                           -8.078e+02  1.816e+02  -4.448\n",
       "Rainfall.mm.                                       2.819e+03  1.978e+03   1.425\n",
       "Snowfall..cm.                                      2.207e+02  5.501e+02   0.401\n",
       "Seasons                                           -1.216e+02  1.158e+02  -1.051\n",
       "HolidayNo Holiday                                 -2.611e+02  3.067e+02  -0.851\n",
       "Functioning.DayYes                                 1.741e+03  1.009e+03   1.726\n",
       "Hour:Temperature..C.                               6.308e-01  1.044e+00   0.604\n",
       "Hour:Humidity...                                  -8.491e-01  2.699e-01  -3.146\n",
       "Hour:Wind.speed..m.s.                             -1.279e+00  8.149e-01  -1.569\n",
       "Hour:Visibility..10m.                              3.818e-03  1.541e-03   2.477\n",
       "Hour:Dew.point.temperature..C.                     1.486e+00  1.098e+00   1.354\n",
       "Hour:Solar.Radiation..MJ.m2.                       1.137e+01  2.736e+00   4.155\n",
       "Hour:Rainfall.mm.                                 -1.863e+00  1.003e+00  -1.858\n",
       "Hour:Snowfall..cm.                                 7.040e+00  2.049e+00   3.435\n",
       "Hour:Seasons                                       6.365e-02  8.410e-01   0.076\n",
       "Hour:HolidayNo Holiday                             8.036e+00  3.619e+00   2.220\n",
       "Hour:Functioning.DayYes                            3.143e+01  4.884e+00   6.434\n",
       "Temperature..C.:Humidity...                        7.804e-01  1.673e-01   4.665\n",
       "Temperature..C.:Wind.speed..m.s.                   4.517e+00  4.307e+00   1.049\n",
       "Temperature..C.:Visibility..10m.                   2.435e-03  1.107e-02   0.220\n",
       "Temperature..C.:Dew.point.temperature..C.         -6.810e-01  6.302e-02 -10.806\n",
       "Temperature..C.:Solar.Radiation..MJ.m2.            1.928e+01  5.535e+00   3.482\n",
       "Temperature..C.:Rainfall.mm.                      -2.402e+02  1.142e+02  -2.103\n",
       "Temperature..C.:Snowfall..cm.                     -1.812e+01  2.372e+01  -0.764\n",
       "Temperature..C.:Seasons                           -1.358e+00  4.010e+00  -0.339\n",
       "Temperature..C.:HolidayNo Holiday                 -1.539e+01  1.334e+01  -1.154\n",
       "Temperature..C.:Functioning.DayYes                -1.873e+01  3.792e+01  -0.494\n",
       "Humidity...:Wind.speed..m.s.                      -2.277e+00  1.308e+00  -1.741\n",
       "Humidity...:Visibility..10m.                       1.958e-03  2.696e-03   0.726\n",
       "Humidity...:Dew.point.temperature..C.             -1.065e+00  1.320e-01  -8.072\n",
       "Humidity...:Solar.Radiation..MJ.m2.                1.617e+01  2.083e+00   7.761\n",
       "Humidity...:Rainfall.mm.                          -2.734e+01  1.991e+01  -1.373\n",
       "Humidity...:Snowfall..cm.                          3.823e+00  5.166e+00   0.740\n",
       "Humidity...:Seasons                                1.374e+00  1.157e+00   1.188\n",
       "Humidity...:HolidayNo Holiday                     -1.644e+00  3.044e+00  -0.540\n",
       "Humidity...:Functioning.DayYes                    -2.423e+01  1.117e+01  -2.169\n",
       "Wind.speed..m.s.:Visibility..10m.                 -2.821e-02  1.138e-02  -2.479\n",
       "Wind.speed..m.s.:Dew.point.temperature..C.        -2.116e+00  4.593e+00  -0.461\n",
       "Wind.speed..m.s.:Solar.Radiation..MJ.m2.          -7.502e+01  7.935e+00  -9.454\n",
       "Wind.speed..m.s.:Rainfall.mm.                      6.979e+00  4.755e+00   1.468\n",
       "Wind.speed..m.s.:Snowfall..cm.                     9.072e+00  1.748e+01   0.519\n",
       "Wind.speed..m.s.:Seasons                          -1.069e+01  5.579e+00  -1.916\n",
       "Wind.speed..m.s.:HolidayNo Holiday                -6.001e+00  2.422e+01  -0.248\n",
       "Wind.speed..m.s.:Functioning.DayYes                3.812e+00  3.081e+01   0.124\n",
       "Visibility..10m.:Dew.point.temperature..C.        -1.435e-02  1.152e-02  -1.245\n",
       "Visibility..10m.:Solar.Radiation..MJ.m2.           7.885e-02  1.782e-02   4.425\n",
       "Visibility..10m.:Rainfall.mm.                      1.927e-02  8.406e-03   2.292\n",
       "Visibility..10m.:Snowfall..cm.                    -1.409e-01  3.191e-02  -4.415\n",
       "Visibility..10m.:Seasons                           3.838e-02  1.038e-02   3.699\n",
       "Visibility..10m.:HolidayNo Holiday                 1.553e-01  5.706e-02   2.722\n",
       "Visibility..10m.:Functioning.DayYes                6.529e-02  5.987e-02   1.090\n",
       "Dew.point.temperature..C.:Solar.Radiation..MJ.m2. -3.613e+01  6.008e+00  -6.014\n",
       "Dew.point.temperature..C.:Rainfall.mm.             2.402e+02  1.151e+02   2.087\n",
       "Dew.point.temperature..C.:Snowfall..cm.           -2.152e+01  2.402e+01  -0.896\n",
       "Dew.point.temperature..C.:Seasons                 -8.686e-01  4.266e+00  -0.204\n",
       "Dew.point.temperature..C.:HolidayNo Holiday        1.389e+01  1.326e+01   1.047\n",
       "Dew.point.temperature..C.:Functioning.DayYes       4.971e+01  3.851e+01   1.291\n",
       "Solar.Radiation..MJ.m2.:Rainfall.mm.              -4.761e+01  5.211e+01  -0.914\n",
       "Solar.Radiation..MJ.m2.:Snowfall..cm.              2.158e+01  4.789e+01   0.451\n",
       "Solar.Radiation..MJ.m2.:Seasons                   -3.360e+01  8.697e+00  -3.864\n",
       "Solar.Radiation..MJ.m2.:HolidayNo Holiday         -4.469e+01  4.327e+01  -1.033\n",
       "Solar.Radiation..MJ.m2.:Functioning.DayYes        -1.301e+02  4.827e+01  -2.695\n",
       "Rainfall.mm.:Snowfall..cm.                        -1.441e+01  7.644e+00  -1.885\n",
       "Rainfall.mm.:Seasons                               9.323e+00  8.602e+00   1.084\n",
       "Rainfall.mm.:HolidayNo Holiday                    -3.349e+01  4.331e+01  -0.773\n",
       "Rainfall.mm.:Functioning.DayYes                   -5.510e+01  8.394e+01  -0.656\n",
       "Snowfall..cm.:Seasons                             -1.400e+02  3.307e+01  -4.232\n",
       "Snowfall..cm.:HolidayNo Holiday                   -8.168e+01  1.150e+02  -0.710\n",
       "Snowfall..cm.:Functioning.DayYes                          NA         NA      NA\n",
       "Seasons:HolidayNo Holiday                          5.788e+01  3.140e+01   1.844\n",
       "Seasons:Functioning.DayYes                         6.394e+00  4.015e+01   0.159\n",
       "HolidayNo Holiday:Functioning.DayYes               1.890e+02  1.173e+02   1.612\n",
       "                                                  Pr(>|t|)    \n",
       "(Intercept)                                       0.128784    \n",
       "Hour                                              0.362068    \n",
       "Temperature..C.                                   0.491237    \n",
       "Humidity...                                       0.047712 *  \n",
       "Wind.speed..m.s.                                  0.098394 .  \n",
       "Visibility..10m.                                  0.203097    \n",
       "Dew.point.temperature..C.                         0.957851    \n",
       "Solar.Radiation..MJ.m2.                           8.82e-06 ***\n",
       "Rainfall.mm.                                      0.154160    \n",
       "Snowfall..cm.                                     0.688288    \n",
       "Seasons                                           0.293468    \n",
       "HolidayNo Holiday                                 0.394596    \n",
       "Functioning.DayYes                                0.084417 .  \n",
       "Hour:Temperature..C.                              0.545555    \n",
       "Hour:Humidity...                                  0.001663 ** \n",
       "Hour:Wind.speed..m.s.                             0.116587    \n",
       "Hour:Visibility..10m.                             0.013269 *  \n",
       "Hour:Dew.point.temperature..C.                    0.175908    \n",
       "Hour:Solar.Radiation..MJ.m2.                      3.29e-05 ***\n",
       "Hour:Rainfall.mm.                                 0.063238 .  \n",
       "Hour:Snowfall..cm.                                0.000595 ***\n",
       "Hour:Seasons                                      0.939668    \n",
       "Hour:HolidayNo Holiday                            0.026429 *  \n",
       "Hour:Functioning.DayYes                           1.33e-10 ***\n",
       "Temperature..C.:Humidity...                       3.16e-06 ***\n",
       "Temperature..C.:Wind.speed..m.s.                  0.294280    \n",
       "Temperature..C.:Visibility..10m.                  0.825923    \n",
       "Temperature..C.:Dew.point.temperature..C.          < 2e-16 ***\n",
       "Temperature..C.:Solar.Radiation..MJ.m2.           0.000501 ***\n",
       "Temperature..C.:Rainfall.mm.                      0.035520 *  \n",
       "Temperature..C.:Snowfall..cm.                     0.444747    \n",
       "Temperature..C.:Seasons                           0.734827    \n",
       "Temperature..C.:HolidayNo Holiday                 0.248680    \n",
       "Temperature..C.:Functioning.DayYes                0.621383    \n",
       "Humidity...:Wind.speed..m.s.                      0.081784 .  \n",
       "Humidity...:Visibility..10m.                      0.467785    \n",
       "Humidity...:Dew.point.temperature..C.             8.15e-16 ***\n",
       "Humidity...:Solar.Radiation..MJ.m2.               9.75e-15 ***\n",
       "Humidity...:Rainfall.mm.                          0.169743    \n",
       "Humidity...:Snowfall..cm.                         0.459321    \n",
       "Humidity...:Seasons                               0.234993    \n",
       "Humidity...:HolidayNo Holiday                     0.589079    \n",
       "Humidity...:Functioning.DayYes                    0.030151 *  \n",
       "Wind.speed..m.s.:Visibility..10m.                 0.013219 *  \n",
       "Wind.speed..m.s.:Dew.point.temperature..C.        0.644977    \n",
       "Wind.speed..m.s.:Solar.Radiation..MJ.m2.           < 2e-16 ***\n",
       "Wind.speed..m.s.:Rainfall.mm.                     0.142168    \n",
       "Wind.speed..m.s.:Snowfall..cm.                    0.603752    \n",
       "Wind.speed..m.s.:Seasons                          0.055379 .  \n",
       "Wind.speed..m.s.:HolidayNo Holiday                0.804283    \n",
       "Wind.speed..m.s.:Functioning.DayYes               0.901533    \n",
       "Visibility..10m.:Dew.point.temperature..C.        0.213110    \n",
       "Visibility..10m.:Solar.Radiation..MJ.m2.          9.78e-06 ***\n",
       "Visibility..10m.:Rainfall.mm.                     0.021939 *  \n",
       "Visibility..10m.:Snowfall..cm.                    1.03e-05 ***\n",
       "Visibility..10m.:Seasons                          0.000219 ***\n",
       "Visibility..10m.:HolidayNo Holiday                0.006515 ** \n",
       "Visibility..10m.:Functioning.DayYes               0.275536    \n",
       "Dew.point.temperature..C.:Solar.Radiation..MJ.m2. 1.90e-09 ***\n",
       "Dew.point.temperature..C.:Rainfall.mm.            0.036956 *  \n",
       "Dew.point.temperature..C.:Snowfall..cm.           0.370342    \n",
       "Dew.point.temperature..C.:Seasons                 0.838659    \n",
       "Dew.point.temperature..C.:HolidayNo Holiday       0.294972    \n",
       "Dew.point.temperature..C.:Functioning.DayYes      0.196723    \n",
       "Solar.Radiation..MJ.m2.:Rainfall.mm.              0.360921    \n",
       "Solar.Radiation..MJ.m2.:Snowfall..cm.             0.652304    \n",
       "Solar.Radiation..MJ.m2.:Seasons                   0.000113 ***\n",
       "Solar.Radiation..MJ.m2.:HolidayNo Holiday         0.301786    \n",
       "Solar.Radiation..MJ.m2.:Functioning.DayYes        0.007046 ** \n",
       "Rainfall.mm.:Snowfall..cm.                        0.059409 .  \n",
       "Rainfall.mm.:Seasons                              0.278510    \n",
       "Rainfall.mm.:HolidayNo Holiday                    0.439442    \n",
       "Rainfall.mm.:Functioning.DayYes                   0.511598    \n",
       "Snowfall..cm.:Seasons                             2.35e-05 ***\n",
       "Snowfall..cm.:HolidayNo Holiday                   0.477763    \n",
       "Snowfall..cm.:Functioning.DayYes                        NA    \n",
       "Seasons:HolidayNo Holiday                         0.065273 .  \n",
       "Seasons:Functioning.DayYes                        0.873475    \n",
       "HolidayNo Holiday:Functioning.DayYes              0.107119    \n",
       "---\n",
       "Signif. codes:  0 '***' 0.001 '**' 0.01 '*' 0.05 '.' 0.1 ' ' 1\n",
       "\n",
       "Residual standard error: 374.9 on 6492 degrees of freedom\n",
       "Multiple R-squared:  0.6687,\tAdjusted R-squared:  0.6648 \n",
       "F-statistic: 170.2 on 77 and 6492 DF,  p-value: < 2.2e-16\n"
      ]
     },
     "metadata": {},
     "output_type": "display_data"
    }
   ],
   "source": [
    "summary(mod_2)"
   ]
  }
 ],
 "metadata": {
  "kernelspec": {
   "display_name": "R",
   "language": "R",
   "name": "ir"
  },
  "language_info": {
   "codemirror_mode": "r",
   "file_extension": ".r",
   "mimetype": "text/x-r-source",
   "name": "R",
   "pygments_lexer": "r",
   "version": "4.1.3"
  }
 },
 "nbformat": 4,
 "nbformat_minor": 5
}
