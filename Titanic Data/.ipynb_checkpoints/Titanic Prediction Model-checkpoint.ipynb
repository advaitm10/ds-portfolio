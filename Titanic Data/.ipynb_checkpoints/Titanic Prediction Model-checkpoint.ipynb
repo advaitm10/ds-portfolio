{
 "cells": [
  {
   "cell_type": "code",
   "execution_count": 2,
   "id": "f7549099",
   "metadata": {},
   "outputs": [],
   "source": [
    "from sklearn.linear_model import LogisticRegression\n",
    "from sklearn.metrics import confusion_matrix\n",
    "import pandas as pd\n",
    "import seaborn as sns\n",
    "import numpy as np"
   ]
  },
  {
   "cell_type": "code",
   "execution_count": 3,
   "id": "2917bb3e",
   "metadata": {},
   "outputs": [],
   "source": [
    "training_df = pd.read_csv('train.csv')\n",
    "testing_df = pd.read_csv('test.csv')"
   ]
  },
  {
   "cell_type": "code",
   "execution_count": 4,
   "id": "a77aec33",
   "metadata": {
    "scrolled": false
   },
   "outputs": [
    {
     "data": {
      "text/html": [
       "<div>\n",
       "<style scoped>\n",
       "    .dataframe tbody tr th:only-of-type {\n",
       "        vertical-align: middle;\n",
       "    }\n",
       "\n",
       "    .dataframe tbody tr th {\n",
       "        vertical-align: top;\n",
       "    }\n",
       "\n",
       "    .dataframe thead th {\n",
       "        text-align: right;\n",
       "    }\n",
       "</style>\n",
       "<table border=\"1\" class=\"dataframe\">\n",
       "  <thead>\n",
       "    <tr style=\"text-align: right;\">\n",
       "      <th></th>\n",
       "      <th>PassengerId</th>\n",
       "      <th>Survived</th>\n",
       "      <th>Pclass</th>\n",
       "      <th>Name</th>\n",
       "      <th>Sex</th>\n",
       "      <th>Age</th>\n",
       "      <th>SibSp</th>\n",
       "      <th>Parch</th>\n",
       "      <th>Ticket</th>\n",
       "      <th>Fare</th>\n",
       "      <th>Cabin</th>\n",
       "      <th>Embarked</th>\n",
       "    </tr>\n",
       "  </thead>\n",
       "  <tbody>\n",
       "    <tr>\n",
       "      <th>0</th>\n",
       "      <td>1</td>\n",
       "      <td>0</td>\n",
       "      <td>3</td>\n",
       "      <td>Braund, Mr. Owen Harris</td>\n",
       "      <td>male</td>\n",
       "      <td>22.0</td>\n",
       "      <td>1</td>\n",
       "      <td>0</td>\n",
       "      <td>A/5 21171</td>\n",
       "      <td>7.2500</td>\n",
       "      <td>NaN</td>\n",
       "      <td>S</td>\n",
       "    </tr>\n",
       "    <tr>\n",
       "      <th>1</th>\n",
       "      <td>2</td>\n",
       "      <td>1</td>\n",
       "      <td>1</td>\n",
       "      <td>Cumings, Mrs. John Bradley (Florence Briggs Th...</td>\n",
       "      <td>female</td>\n",
       "      <td>38.0</td>\n",
       "      <td>1</td>\n",
       "      <td>0</td>\n",
       "      <td>PC 17599</td>\n",
       "      <td>71.2833</td>\n",
       "      <td>C85</td>\n",
       "      <td>C</td>\n",
       "    </tr>\n",
       "    <tr>\n",
       "      <th>2</th>\n",
       "      <td>3</td>\n",
       "      <td>1</td>\n",
       "      <td>3</td>\n",
       "      <td>Heikkinen, Miss. Laina</td>\n",
       "      <td>female</td>\n",
       "      <td>26.0</td>\n",
       "      <td>0</td>\n",
       "      <td>0</td>\n",
       "      <td>STON/O2. 3101282</td>\n",
       "      <td>7.9250</td>\n",
       "      <td>NaN</td>\n",
       "      <td>S</td>\n",
       "    </tr>\n",
       "    <tr>\n",
       "      <th>3</th>\n",
       "      <td>4</td>\n",
       "      <td>1</td>\n",
       "      <td>1</td>\n",
       "      <td>Futrelle, Mrs. Jacques Heath (Lily May Peel)</td>\n",
       "      <td>female</td>\n",
       "      <td>35.0</td>\n",
       "      <td>1</td>\n",
       "      <td>0</td>\n",
       "      <td>113803</td>\n",
       "      <td>53.1000</td>\n",
       "      <td>C123</td>\n",
       "      <td>S</td>\n",
       "    </tr>\n",
       "    <tr>\n",
       "      <th>4</th>\n",
       "      <td>5</td>\n",
       "      <td>0</td>\n",
       "      <td>3</td>\n",
       "      <td>Allen, Mr. William Henry</td>\n",
       "      <td>male</td>\n",
       "      <td>35.0</td>\n",
       "      <td>0</td>\n",
       "      <td>0</td>\n",
       "      <td>373450</td>\n",
       "      <td>8.0500</td>\n",
       "      <td>NaN</td>\n",
       "      <td>S</td>\n",
       "    </tr>\n",
       "  </tbody>\n",
       "</table>\n",
       "</div>"
      ],
      "text/plain": [
       "   PassengerId  Survived  Pclass  \\\n",
       "0            1         0       3   \n",
       "1            2         1       1   \n",
       "2            3         1       3   \n",
       "3            4         1       1   \n",
       "4            5         0       3   \n",
       "\n",
       "                                                Name     Sex   Age  SibSp  \\\n",
       "0                            Braund, Mr. Owen Harris    male  22.0      1   \n",
       "1  Cumings, Mrs. John Bradley (Florence Briggs Th...  female  38.0      1   \n",
       "2                             Heikkinen, Miss. Laina  female  26.0      0   \n",
       "3       Futrelle, Mrs. Jacques Heath (Lily May Peel)  female  35.0      1   \n",
       "4                           Allen, Mr. William Henry    male  35.0      0   \n",
       "\n",
       "   Parch            Ticket     Fare Cabin Embarked  \n",
       "0      0         A/5 21171   7.2500   NaN        S  \n",
       "1      0          PC 17599  71.2833   C85        C  \n",
       "2      0  STON/O2. 3101282   7.9250   NaN        S  \n",
       "3      0            113803  53.1000  C123        S  \n",
       "4      0            373450   8.0500   NaN        S  "
      ]
     },
     "execution_count": 4,
     "metadata": {},
     "output_type": "execute_result"
    }
   ],
   "source": [
    "training_df.head()"
   ]
  },
  {
   "cell_type": "code",
   "execution_count": 5,
   "id": "12374e23",
   "metadata": {
    "scrolled": true
   },
   "outputs": [
    {
     "data": {
      "text/plain": [
       "(891, 12)"
      ]
     },
     "execution_count": 5,
     "metadata": {},
     "output_type": "execute_result"
    }
   ],
   "source": [
    "training_df.shape"
   ]
  },
  {
   "cell_type": "code",
   "execution_count": 6,
   "id": "ff58887b",
   "metadata": {},
   "outputs": [
    {
     "data": {
      "text/plain": [
       "PassengerId     0.000000\n",
       "Survived        0.000000\n",
       "Pclass          0.000000\n",
       "Name            0.000000\n",
       "Sex             0.000000\n",
       "Age            19.865320\n",
       "SibSp           0.000000\n",
       "Parch           0.000000\n",
       "Ticket          0.000000\n",
       "Fare            0.000000\n",
       "Cabin          77.104377\n",
       "Embarked        0.224467\n",
       "dtype: float64"
      ]
     },
     "execution_count": 6,
     "metadata": {},
     "output_type": "execute_result"
    }
   ],
   "source": [
    "training_df.isnull().sum() * 100 / len(training_df)"
   ]
  },
  {
   "cell_type": "code",
   "execution_count": 7,
   "id": "48eb3ac4",
   "metadata": {
    "scrolled": true
   },
   "outputs": [
    {
     "data": {
      "text/plain": [
       "PassengerId     0.000000\n",
       "Pclass          0.000000\n",
       "Name            0.000000\n",
       "Sex             0.000000\n",
       "Age            20.574163\n",
       "SibSp           0.000000\n",
       "Parch           0.000000\n",
       "Ticket          0.000000\n",
       "Fare            0.239234\n",
       "Cabin          78.229665\n",
       "Embarked        0.000000\n",
       "dtype: float64"
      ]
     },
     "execution_count": 7,
     "metadata": {},
     "output_type": "execute_result"
    }
   ],
   "source": [
    "testing_df.isnull().sum() * 100 / len(testing_df)"
   ]
  },
  {
   "cell_type": "code",
   "execution_count": 8,
   "id": "2803dcc2",
   "metadata": {
    "scrolled": true
   },
   "outputs": [
    {
     "data": {
      "text/plain": [
       "Index(['PassengerId', 'Survived', 'Pclass', 'Name', 'Sex', 'Age', 'SibSp',\n",
       "       'Parch', 'Ticket', 'Fare', 'Cabin', 'Embarked'],\n",
       "      dtype='object')"
      ]
     },
     "execution_count": 8,
     "metadata": {},
     "output_type": "execute_result"
    }
   ],
   "source": [
    "training_df.columns"
   ]
  },
  {
   "cell_type": "markdown",
   "id": "76678989",
   "metadata": {},
   "source": [
    "Notes:\n",
    "- PassengerId and Ticket appear useless and will be dropped\n",
    "- Cabin is missing so many values that it will have to be dropped"
   ]
  },
  {
   "cell_type": "markdown",
   "id": "d769ee9f",
   "metadata": {},
   "source": [
    "## Identifying Relationships:"
   ]
  },
  {
   "cell_type": "code",
   "execution_count": 9,
   "id": "9168bd61",
   "metadata": {},
   "outputs": [
    {
     "data": {
      "text/plain": [
       "<AxesSubplot:xlabel='Sex', ylabel='count'>"
      ]
     },
     "execution_count": 9,
     "metadata": {},
     "output_type": "execute_result"
    },
    {
     "data": {
      "image/png": "[encoded data removed]",
      "text/plain": [
       "<Figure size 432x288 with 1 Axes>"
      ]
     },
     "metadata": {
      "needs_background": "light"
     },
     "output_type": "display_data"
    }
   ],
   "source": [
    "sns.countplot(data = training_df, x = 'Sex', hue = 'Survived')"
   ]
  },
  {
   "cell_type": "markdown",
   "id": "35de8758",
   "metadata": {},
   "source": [
    "Notes:\n",
    "\n",
    "Women overwhelmingly survive, men overwhelmingly die"
   ]
  },
  {
   "cell_type": "code",
   "execution_count": 10,
   "id": "0813987e",
   "metadata": {},
   "outputs": [
    {
     "data": {
      "text/plain": [
       "<AxesSubplot:xlabel='Pclass', ylabel='count'>"
      ]
     },
     "execution_count": 10,
     "metadata": {},
     "output_type": "execute_result"
    },
    {
     "data": {
      "image/png": "[encoded data removed]",
      "text/plain": [
       "<Figure size 432x288 with 1 Axes>"
      ]
     },
     "metadata": {
      "needs_background": "light"
     },
     "output_type": "display_data"
    }
   ],
   "source": [
    "sns.countplot(data = training_df, x='Pclass', hue='Survived')"
   ]
  },
  {
   "cell_type": "markdown",
   "id": "57f205df",
   "metadata": {},
   "source": [
    "Notes:\n",
    "    \n",
    "Third class passengers die at much higher rates compare to first and second"
   ]
  },
  {
   "cell_type": "markdown",
   "id": "696d9e58",
   "metadata": {},
   "source": [
    "### Combining Sex and Class:"
   ]
  },
  {
   "cell_type": "code",
   "execution_count": 11,
   "id": "a4dfc17a",
   "metadata": {},
   "outputs": [
    {
     "data": {
      "text/plain": [
       "<AxesSubplot:xlabel='Pclass', ylabel='Survived'>"
      ]
     },
     "execution_count": 11,
     "metadata": {},
     "output_type": "execute_result"
    },
    {
     "data": {
      "image/png": "[encoded data removed]",
      "text/plain": [
       "<Figure size 432x288 with 1 Axes>"
      ]
     },
     "metadata": {
      "needs_background": "light"
     },
     "output_type": "display_data"
    }
   ],
   "source": [
    "sns.pointplot(data = training_df, x='Pclass', y='Survived', hue='Sex')"
   ]
  },
  {
   "cell_type": "markdown",
   "id": "39615cb6",
   "metadata": {},
   "source": [
    "Notes:\n",
    "\n",
    "Women in first and second class overwhelmingly survived, add Pclass and Sex to model"
   ]
  },
  {
   "cell_type": "markdown",
   "id": "a686f7bb",
   "metadata": {},
   "source": [
    "#### Encode sex:"
   ]
  },
  {
   "cell_type": "code",
   "execution_count": 12,
   "id": "0c401878",
   "metadata": {},
   "outputs": [],
   "source": [
    "training_df['Sex'] = training_df['Sex'].astype('category')\n",
    "training_df['Sex'] = training_df['Sex'].cat.codes\n",
    "\n",
    "testing_df['Sex'] = testing_df['Sex'].astype('category')\n",
    "testing_df['Sex'] = testing_df['Sex'].cat.codes"
   ]
  },
  {
   "cell_type": "markdown",
   "id": "98e7c190",
   "metadata": {},
   "source": [
    "## First Model:\n",
    "Logistic Regression with Pclass and Sex (keep it simple)"
   ]
  },
  {
   "cell_type": "code",
   "execution_count": 13,
   "id": "7cdd572e",
   "metadata": {},
   "outputs": [],
   "source": [
    "X = training_df[['Pclass', 'Sex']]\n",
    "y = training_df['Survived']\n",
    "mod = LogisticRegression().fit(X, y)"
   ]
  },
  {
   "cell_type": "code",
   "execution_count": 14,
   "id": "a9318c40",
   "metadata": {},
   "outputs": [],
   "source": [
    "X_test = testing_df[['Pclass', 'Sex']]\n",
    "predictions = mod.predict(X_test)"
   ]
  },
  {
   "cell_type": "code",
   "execution_count": 15,
   "id": "e5b70dfd",
   "metadata": {},
   "outputs": [
    {
     "data": {
      "text/plain": [
       "0.7867564534231201"
      ]
     },
     "execution_count": 15,
     "metadata": {},
     "output_type": "execute_result"
    }
   ],
   "source": [
    "mod.score(X, y)"
   ]
  },
  {
   "cell_type": "markdown",
   "id": "f77a41a9",
   "metadata": {},
   "source": [
    "##### Notes: \n",
    "\n",
    "Solid training score"
   ]
  },
  {
   "cell_type": "markdown",
   "id": "9cd963ba",
   "metadata": {},
   "source": [
    "##### Confusion Matrix:"
   ]
  },
  {
   "cell_type": "code",
   "execution_count": 16,
   "id": "98e2aba2",
   "metadata": {},
   "outputs": [
    {
     "name": "stdout",
     "output_type": "stream",
     "text": [
      "Counts:\n",
      "[[468  81]\n",
      " [109 233]]\n",
      "\n",
      "Percentage:\n",
      "[[0.85245902 0.14754098]\n",
      " [0.31871345 0.68128655]]\n"
     ]
    }
   ],
   "source": [
    "pred_train = mod.predict(X)\n",
    "conf = confusion_matrix(y, pred_train)\n",
    "print('Counts:')\n",
    "print(conf)\n",
    "print()\n",
    "print('Percentage:')\n",
    "print(conf/conf.sum(axis = 1)[np.newaxis].transpose())"
   ]
  },
  {
   "cell_type": "markdown",
   "id": "7ffaa7ab",
   "metadata": {},
   "source": [
    "##### Notes:\n",
    "- 31.9% of deaths incorrectly predicted, but only 14.8% of survivals incorrectly predicted\n",
    "- Need to find factor that explains deaths better\n",
    "- Test Score: 0.76555\n",
    "- Okay first step!"
   ]
  },
  {
   "cell_type": "markdown",
   "id": "5aef4b35",
   "metadata": {},
   "source": [
    "## Submission:"
   ]
  },
  {
   "cell_type": "code",
   "execution_count": 17,
   "id": "7c0fccbe",
   "metadata": {},
   "outputs": [],
   "source": [
    "submission = pd.DataFrame(data = {\n",
    "    'PassengerId':testing_df['PassengerId'],\n",
    "    'Survived':predictions\n",
    "})\n",
    "submission.to_csv('submission.csv', index = False)"
   ]
  }
 ],
 "metadata": {
  "kernelspec": {
   "display_name": "Python 3 (ipykernel)",
   "language": "python",
   "name": "python3"
  },
  "language_info": {
   "codemirror_mode": {
    "name": "ipython",
    "version": 3
   },
   "file_extension": ".py",
   "mimetype": "text/x-python",
   "name": "python",
   "nbconvert_exporter": "python",
   "pygments_lexer": "ipython3",
   "version": "3.9.7"
  }
 },
 "nbformat": 4,
 "nbformat_minor": 5
}
